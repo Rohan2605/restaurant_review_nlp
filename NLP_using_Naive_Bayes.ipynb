{
  "cells": [
    {
      "cell_type": "code",
      "execution_count": null,
      "metadata": {
        "colab": {
          "base_uri": "https://localhost:8080/"
        },
        "id": "FS-xbdeT6ghj",
        "outputId": "d14ab731-266e-47d3-bee5-ab79ba8bd3fe"
      },
      "outputs": [
        {
          "output_type": "stream",
          "name": "stdout",
          "text": [
            "Mounted at /content/drive\n"
          ]
        }
      ],
      "source": [
        "from google.colab import drive\n",
        "drive.mount(\"/content/drive\")"
      ]
    },
    {
      "cell_type": "code",
      "execution_count": null,
      "metadata": {
        "id": "JrV0nnb_-AjB"
      },
      "outputs": [],
      "source": [
        "import numpy as np\n",
        "import pandas as pd\n",
        "import matplotlib.pyplot as plt"
      ]
    },
    {
      "cell_type": "code",
      "execution_count": null,
      "metadata": {
        "colab": {
          "base_uri": "https://localhost:8080/",
          "height": 73
        },
        "id": "IKCDiZS3-Vll",
        "outputId": "c0e30171-d367-4520-cc32-823036d972f4"
      },
      "outputs": [
        {
          "output_type": "display_data",
          "data": {
            "text/plain": [
              "<IPython.core.display.HTML object>"
            ],
            "text/html": [
              "\n",
              "     <input type=\"file\" id=\"files-ad82f41e-1b8c-41b0-ae45-e1d2f6b0bc99\" name=\"files[]\" multiple disabled\n",
              "        style=\"border:none\" />\n",
              "     <output id=\"result-ad82f41e-1b8c-41b0-ae45-e1d2f6b0bc99\">\n",
              "      Upload widget is only available when the cell has been executed in the\n",
              "      current browser session. Please rerun this cell to enable.\n",
              "      </output>\n",
              "      <script>// Copyright 2017 Google LLC\n",
              "//\n",
              "// Licensed under the Apache License, Version 2.0 (the \"License\");\n",
              "// you may not use this file except in compliance with the License.\n",
              "// You may obtain a copy of the License at\n",
              "//\n",
              "//      http://www.apache.org/licenses/LICENSE-2.0\n",
              "//\n",
              "// Unless required by applicable law or agreed to in writing, software\n",
              "// distributed under the License is distributed on an \"AS IS\" BASIS,\n",
              "// WITHOUT WARRANTIES OR CONDITIONS OF ANY KIND, either express or implied.\n",
              "// See the License for the specific language governing permissions and\n",
              "// limitations under the License.\n",
              "\n",
              "/**\n",
              " * @fileoverview Helpers for google.colab Python module.\n",
              " */\n",
              "(function(scope) {\n",
              "function span(text, styleAttributes = {}) {\n",
              "  const element = document.createElement('span');\n",
              "  element.textContent = text;\n",
              "  for (const key of Object.keys(styleAttributes)) {\n",
              "    element.style[key] = styleAttributes[key];\n",
              "  }\n",
              "  return element;\n",
              "}\n",
              "\n",
              "// Max number of bytes which will be uploaded at a time.\n",
              "const MAX_PAYLOAD_SIZE = 100 * 1024;\n",
              "\n",
              "function _uploadFiles(inputId, outputId) {\n",
              "  const steps = uploadFilesStep(inputId, outputId);\n",
              "  const outputElement = document.getElementById(outputId);\n",
              "  // Cache steps on the outputElement to make it available for the next call\n",
              "  // to uploadFilesContinue from Python.\n",
              "  outputElement.steps = steps;\n",
              "\n",
              "  return _uploadFilesContinue(outputId);\n",
              "}\n",
              "\n",
              "// This is roughly an async generator (not supported in the browser yet),\n",
              "// where there are multiple asynchronous steps and the Python side is going\n",
              "// to poll for completion of each step.\n",
              "// This uses a Promise to block the python side on completion of each step,\n",
              "// then passes the result of the previous step as the input to the next step.\n",
              "function _uploadFilesContinue(outputId) {\n",
              "  const outputElement = document.getElementById(outputId);\n",
              "  const steps = outputElement.steps;\n",
              "\n",
              "  const next = steps.next(outputElement.lastPromiseValue);\n",
              "  return Promise.resolve(next.value.promise).then((value) => {\n",
              "    // Cache the last promise value to make it available to the next\n",
              "    // step of the generator.\n",
              "    outputElement.lastPromiseValue = value;\n",
              "    return next.value.response;\n",
              "  });\n",
              "}\n",
              "\n",
              "/**\n",
              " * Generator function which is called between each async step of the upload\n",
              " * process.\n",
              " * @param {string} inputId Element ID of the input file picker element.\n",
              " * @param {string} outputId Element ID of the output display.\n",
              " * @return {!Iterable<!Object>} Iterable of next steps.\n",
              " */\n",
              "function* uploadFilesStep(inputId, outputId) {\n",
              "  const inputElement = document.getElementById(inputId);\n",
              "  inputElement.disabled = false;\n",
              "\n",
              "  const outputElement = document.getElementById(outputId);\n",
              "  outputElement.innerHTML = '';\n",
              "\n",
              "  const pickedPromise = new Promise((resolve) => {\n",
              "    inputElement.addEventListener('change', (e) => {\n",
              "      resolve(e.target.files);\n",
              "    });\n",
              "  });\n",
              "\n",
              "  const cancel = document.createElement('button');\n",
              "  inputElement.parentElement.appendChild(cancel);\n",
              "  cancel.textContent = 'Cancel upload';\n",
              "  const cancelPromise = new Promise((resolve) => {\n",
              "    cancel.onclick = () => {\n",
              "      resolve(null);\n",
              "    };\n",
              "  });\n",
              "\n",
              "  // Wait for the user to pick the files.\n",
              "  const files = yield {\n",
              "    promise: Promise.race([pickedPromise, cancelPromise]),\n",
              "    response: {\n",
              "      action: 'starting',\n",
              "    }\n",
              "  };\n",
              "\n",
              "  cancel.remove();\n",
              "\n",
              "  // Disable the input element since further picks are not allowed.\n",
              "  inputElement.disabled = true;\n",
              "\n",
              "  if (!files) {\n",
              "    return {\n",
              "      response: {\n",
              "        action: 'complete',\n",
              "      }\n",
              "    };\n",
              "  }\n",
              "\n",
              "  for (const file of files) {\n",
              "    const li = document.createElement('li');\n",
              "    li.append(span(file.name, {fontWeight: 'bold'}));\n",
              "    li.append(span(\n",
              "        `(${file.type || 'n/a'}) - ${file.size} bytes, ` +\n",
              "        `last modified: ${\n",
              "            file.lastModifiedDate ? file.lastModifiedDate.toLocaleDateString() :\n",
              "                                    'n/a'} - `));\n",
              "    const percent = span('0% done');\n",
              "    li.appendChild(percent);\n",
              "\n",
              "    outputElement.appendChild(li);\n",
              "\n",
              "    const fileDataPromise = new Promise((resolve) => {\n",
              "      const reader = new FileReader();\n",
              "      reader.onload = (e) => {\n",
              "        resolve(e.target.result);\n",
              "      };\n",
              "      reader.readAsArrayBuffer(file);\n",
              "    });\n",
              "    // Wait for the data to be ready.\n",
              "    let fileData = yield {\n",
              "      promise: fileDataPromise,\n",
              "      response: {\n",
              "        action: 'continue',\n",
              "      }\n",
              "    };\n",
              "\n",
              "    // Use a chunked sending to avoid message size limits. See b/62115660.\n",
              "    let position = 0;\n",
              "    do {\n",
              "      const length = Math.min(fileData.byteLength - position, MAX_PAYLOAD_SIZE);\n",
              "      const chunk = new Uint8Array(fileData, position, length);\n",
              "      position += length;\n",
              "\n",
              "      const base64 = btoa(String.fromCharCode.apply(null, chunk));\n",
              "      yield {\n",
              "        response: {\n",
              "          action: 'append',\n",
              "          file: file.name,\n",
              "          data: base64,\n",
              "        },\n",
              "      };\n",
              "\n",
              "      let percentDone = fileData.byteLength === 0 ?\n",
              "          100 :\n",
              "          Math.round((position / fileData.byteLength) * 100);\n",
              "      percent.textContent = `${percentDone}% done`;\n",
              "\n",
              "    } while (position < fileData.byteLength);\n",
              "  }\n",
              "\n",
              "  // All done.\n",
              "  yield {\n",
              "    response: {\n",
              "      action: 'complete',\n",
              "    }\n",
              "  };\n",
              "}\n",
              "\n",
              "scope.google = scope.google || {};\n",
              "scope.google.colab = scope.google.colab || {};\n",
              "scope.google.colab._files = {\n",
              "  _uploadFiles,\n",
              "  _uploadFilesContinue,\n",
              "};\n",
              "})(self);\n",
              "</script> "
            ]
          },
          "metadata": {}
        },
        {
          "output_type": "stream",
          "name": "stdout",
          "text": [
            "Saving Restaurant_Reviews.tsv to Restaurant_Reviews.tsv\n"
          ]
        }
      ],
      "source": [
        "from google.colab import files\n",
        "uploaded = files.upload()"
      ]
    },
    {
      "cell_type": "code",
      "execution_count": null,
      "metadata": {
        "colab": {
          "base_uri": "https://localhost:8080/"
        },
        "id": "mI7paTlP-cdO",
        "outputId": "1ba2f8f1-734d-4f86-8933-32220be4022b"
      },
      "outputs": [
        {
          "output_type": "stream",
          "name": "stdout",
          "text": [
            "['Restaurant_Reviews.tsv']\n",
            "Restaurant_Reviews.tsv\n"
          ]
        }
      ],
      "source": [
        "input=list(uploaded.keys())\n",
        "print(input)\n",
        "input=input[0]\n",
        "print(input)"
      ]
    },
    {
      "cell_type": "code",
      "execution_count": null,
      "metadata": {
        "colab": {
          "base_uri": "https://localhost:8080/"
        },
        "id": "OVeH1T4K-oN3",
        "outputId": "50b47964-ac9f-4156-f0b8-c8931d4ee25a"
      },
      "outputs": [
        {
          "output_type": "stream",
          "name": "stdout",
          "text": [
            "tsv\n"
          ]
        }
      ],
      "source": [
        "extension = input.split(\".\")\n",
        "print(extension[1])"
      ]
    },
    {
      "cell_type": "code",
      "execution_count": null,
      "metadata": {
        "colab": {
          "base_uri": "https://localhost:8080/",
          "height": 650
        },
        "id": "Zo0wFX0b_GaO",
        "outputId": "5be8a526-c767-4a8b-aa7d-aff6c1d24e04"
      },
      "outputs": [
        {
          "output_type": "execute_result",
          "data": {
            "text/plain": [
              "                                                Review  Liked\n",
              "0                             Wow... Loved this place.      1\n",
              "1                                   Crust is not good.      0\n",
              "2            Not tasty and the texture was just nasty.      0\n",
              "3    Stopped by during the late May bank holiday of...      1\n",
              "4    The selection on the menu was great and so wer...      1\n",
              "..                                                 ...    ...\n",
              "995  I think food should have flavor and texture an...      0\n",
              "996                           Appetite instantly gone.      0\n",
              "997  Overall I was not impressed and would not go b...      0\n",
              "998  The whole experience was underwhelming, and I ...      0\n",
              "999  Then, as if I hadn't wasted enough of my life ...      0\n",
              "\n",
              "[1000 rows x 2 columns]"
            ],
            "text/html": [
              "\n",
              "  <div id=\"df-829cb9fa-df6d-49a6-a79c-f970e1c1d1aa\">\n",
              "    <div class=\"colab-df-container\">\n",
              "      <div>\n",
              "<style scoped>\n",
              "    .dataframe tbody tr th:only-of-type {\n",
              "        vertical-align: middle;\n",
              "    }\n",
              "\n",
              "    .dataframe tbody tr th {\n",
              "        vertical-align: top;\n",
              "    }\n",
              "\n",
              "    .dataframe thead th {\n",
              "        text-align: right;\n",
              "    }\n",
              "</style>\n",
              "<table border=\"1\" class=\"dataframe\">\n",
              "  <thead>\n",
              "    <tr style=\"text-align: right;\">\n",
              "      <th></th>\n",
              "      <th>Review</th>\n",
              "      <th>Liked</th>\n",
              "    </tr>\n",
              "  </thead>\n",
              "  <tbody>\n",
              "    <tr>\n",
              "      <th>0</th>\n",
              "      <td>Wow... Loved this place.</td>\n",
              "      <td>1</td>\n",
              "    </tr>\n",
              "    <tr>\n",
              "      <th>1</th>\n",
              "      <td>Crust is not good.</td>\n",
              "      <td>0</td>\n",
              "    </tr>\n",
              "    <tr>\n",
              "      <th>2</th>\n",
              "      <td>Not tasty and the texture was just nasty.</td>\n",
              "      <td>0</td>\n",
              "    </tr>\n",
              "    <tr>\n",
              "      <th>3</th>\n",
              "      <td>Stopped by during the late May bank holiday of...</td>\n",
              "      <td>1</td>\n",
              "    </tr>\n",
              "    <tr>\n",
              "      <th>4</th>\n",
              "      <td>The selection on the menu was great and so wer...</td>\n",
              "      <td>1</td>\n",
              "    </tr>\n",
              "    <tr>\n",
              "      <th>...</th>\n",
              "      <td>...</td>\n",
              "      <td>...</td>\n",
              "    </tr>\n",
              "    <tr>\n",
              "      <th>995</th>\n",
              "      <td>I think food should have flavor and texture an...</td>\n",
              "      <td>0</td>\n",
              "    </tr>\n",
              "    <tr>\n",
              "      <th>996</th>\n",
              "      <td>Appetite instantly gone.</td>\n",
              "      <td>0</td>\n",
              "    </tr>\n",
              "    <tr>\n",
              "      <th>997</th>\n",
              "      <td>Overall I was not impressed and would not go b...</td>\n",
              "      <td>0</td>\n",
              "    </tr>\n",
              "    <tr>\n",
              "      <th>998</th>\n",
              "      <td>The whole experience was underwhelming, and I ...</td>\n",
              "      <td>0</td>\n",
              "    </tr>\n",
              "    <tr>\n",
              "      <th>999</th>\n",
              "      <td>Then, as if I hadn't wasted enough of my life ...</td>\n",
              "      <td>0</td>\n",
              "    </tr>\n",
              "  </tbody>\n",
              "</table>\n",
              "<p>1000 rows × 2 columns</p>\n",
              "</div>\n",
              "      <button class=\"colab-df-convert\" onclick=\"convertToInteractive('df-829cb9fa-df6d-49a6-a79c-f970e1c1d1aa')\"\n",
              "              title=\"Convert this dataframe to an interactive table.\"\n",
              "              style=\"display:none;\">\n",
              "        \n",
              "  <svg xmlns=\"http://www.w3.org/2000/svg\" height=\"24px\"viewBox=\"0 0 24 24\"\n",
              "       width=\"24px\">\n",
              "    <path d=\"M0 0h24v24H0V0z\" fill=\"none\"/>\n",
              "    <path d=\"M18.56 5.44l.94 2.06.94-2.06 2.06-.94-2.06-.94-.94-2.06-.94 2.06-2.06.94zm-11 1L8.5 8.5l.94-2.06 2.06-.94-2.06-.94L8.5 2.5l-.94 2.06-2.06.94zm10 10l.94 2.06.94-2.06 2.06-.94-2.06-.94-.94-2.06-.94 2.06-2.06.94z\"/><path d=\"M17.41 7.96l-1.37-1.37c-.4-.4-.92-.59-1.43-.59-.52 0-1.04.2-1.43.59L10.3 9.45l-7.72 7.72c-.78.78-.78 2.05 0 2.83L4 21.41c.39.39.9.59 1.41.59.51 0 1.02-.2 1.41-.59l7.78-7.78 2.81-2.81c.8-.78.8-2.07 0-2.86zM5.41 20L4 18.59l7.72-7.72 1.47 1.35L5.41 20z\"/>\n",
              "  </svg>\n",
              "      </button>\n",
              "      \n",
              "  <style>\n",
              "    .colab-df-container {\n",
              "      display:flex;\n",
              "      flex-wrap:wrap;\n",
              "      gap: 12px;\n",
              "    }\n",
              "\n",
              "    .colab-df-convert {\n",
              "      background-color: #E8F0FE;\n",
              "      border: none;\n",
              "      border-radius: 50%;\n",
              "      cursor: pointer;\n",
              "      display: none;\n",
              "      fill: #1967D2;\n",
              "      height: 32px;\n",
              "      padding: 0 0 0 0;\n",
              "      width: 32px;\n",
              "    }\n",
              "\n",
              "    .colab-df-convert:hover {\n",
              "      background-color: #E2EBFA;\n",
              "      box-shadow: 0px 1px 2px rgba(60, 64, 67, 0.3), 0px 1px 3px 1px rgba(60, 64, 67, 0.15);\n",
              "      fill: #174EA6;\n",
              "    }\n",
              "\n",
              "    [theme=dark] .colab-df-convert {\n",
              "      background-color: #3B4455;\n",
              "      fill: #D2E3FC;\n",
              "    }\n",
              "\n",
              "    [theme=dark] .colab-df-convert:hover {\n",
              "      background-color: #434B5C;\n",
              "      box-shadow: 0px 1px 3px 1px rgba(0, 0, 0, 0.15);\n",
              "      filter: drop-shadow(0px 1px 2px rgba(0, 0, 0, 0.3));\n",
              "      fill: #FFFFFF;\n",
              "    }\n",
              "  </style>\n",
              "\n",
              "      <script>\n",
              "        const buttonEl =\n",
              "          document.querySelector('#df-829cb9fa-df6d-49a6-a79c-f970e1c1d1aa button.colab-df-convert');\n",
              "        buttonEl.style.display =\n",
              "          google.colab.kernel.accessAllowed ? 'block' : 'none';\n",
              "\n",
              "        async function convertToInteractive(key) {\n",
              "          const element = document.querySelector('#df-829cb9fa-df6d-49a6-a79c-f970e1c1d1aa');\n",
              "          const dataTable =\n",
              "            await google.colab.kernel.invokeFunction('convertToInteractive',\n",
              "                                                     [key], {});\n",
              "          if (!dataTable) return;\n",
              "\n",
              "          const docLinkHtml = 'Like what you see? Visit the ' +\n",
              "            '<a target=\"_blank\" href=https://colab.research.google.com/notebooks/data_table.ipynb>data table notebook</a>'\n",
              "            + ' to learn more about interactive tables.';\n",
              "          element.innerHTML = '';\n",
              "          dataTable['output_type'] = 'display_data';\n",
              "          await google.colab.output.renderOutput(dataTable, element);\n",
              "          const docLink = document.createElement('div');\n",
              "          docLink.innerHTML = docLinkHtml;\n",
              "          element.appendChild(docLink);\n",
              "        }\n",
              "      </script>\n",
              "    </div>\n",
              "  </div>\n",
              "  "
            ]
          },
          "metadata": {},
          "execution_count": 8
        }
      ],
      "source": [
        "dataset = pd.read_csv(input, delimiter=\"\\t\", quoting=3)\n",
        "dataset"
      ]
    },
    {
      "cell_type": "code",
      "execution_count": null,
      "metadata": {
        "colab": {
          "base_uri": "https://localhost:8080/"
        },
        "id": "jz2UVPg9_Vx0",
        "outputId": "2b542cb9-784c-4b37-8e93-3de8fa966aba"
      },
      "outputs": [
        {
          "data": {
            "text/plain": [
              "(1000, 2)"
            ]
          },
          "execution_count": 8,
          "metadata": {},
          "output_type": "execute_result"
        }
      ],
      "source": [
        "dataset.shape"
      ]
    },
    {
      "cell_type": "code",
      "execution_count": null,
      "metadata": {
        "colab": {
          "base_uri": "https://localhost:8080/"
        },
        "id": "d7a59lwzAG98",
        "outputId": "17127b70-3b79-4843-c94e-422243102e8e"
      },
      "outputs": [
        {
          "name": "stdout",
          "output_type": "stream",
          "text": [
            "Review    object\n",
            "Liked      int64\n",
            "dtype: object\n"
          ]
        }
      ],
      "source": [
        "types = dataset.dtypes\n",
        "print(types)"
      ]
    },
    {
      "cell_type": "code",
      "execution_count": null,
      "metadata": {
        "colab": {
          "base_uri": "https://localhost:8080/"
        },
        "id": "mXapzjpoAKlo",
        "outputId": "81e5b760-effe-47fe-f1df-406e090d37a8"
      },
      "outputs": [
        {
          "name": "stdout",
          "output_type": "stream",
          "text": [
            "<class 'pandas.core.frame.DataFrame'>\n",
            "RangeIndex: 1000 entries, 0 to 999\n",
            "Data columns (total 2 columns):\n",
            " #   Column  Non-Null Count  Dtype \n",
            "---  ------  --------------  ----- \n",
            " 0   Review  1000 non-null   object\n",
            " 1   Liked   1000 non-null   int64 \n",
            "dtypes: int64(1), object(1)\n",
            "memory usage: 15.8+ KB\n"
          ]
        }
      ],
      "source": [
        "dataset.info()"
      ]
    },
    {
      "cell_type": "code",
      "execution_count": null,
      "metadata": {
        "colab": {
          "base_uri": "https://localhost:8080/"
        },
        "id": "X0mx_lylAMH5",
        "outputId": "f1643e13-5812-4e9d-d508-820818405e0b"
      },
      "outputs": [
        {
          "name": "stdout",
          "output_type": "stream",
          "text": [
            "Liked\n",
            "0    500\n",
            "1    500\n",
            "dtype: int64\n"
          ]
        }
      ],
      "source": [
        "class_counts = dataset.groupby('Liked').size()\n",
        "print(class_counts)"
      ]
    },
    {
      "cell_type": "code",
      "execution_count": null,
      "metadata": {
        "colab": {
          "base_uri": "https://localhost:8080/",
          "height": 281
        },
        "id": "FGM2dzVcAQoA",
        "outputId": "5ab8b6f7-0c74-4db8-c2b4-f7d0e46af9f6"
      },
      "outputs": [
        {
          "data": {
            "image/png": "[encoded data removed]",
            "text/plain": [
              "<Figure size 432x288 with 1 Axes>"
            ]
          },
          "metadata": {},
          "output_type": "display_data"
        }
      ],
      "source": [
        "# Histogram plot\n",
        "from matplotlib import pyplot\n",
        "dataset.hist()\n",
        "pyplot.show()"
      ]
    },
    {
      "cell_type": "code",
      "execution_count": null,
      "metadata": {
        "colab": {
          "base_uri": "https://localhost:8080/",
          "height": 112
        },
        "id": "0cGFeG0kAT2n",
        "outputId": "9a2160cf-d2f5-4f38-8684-856e6864ed13"
      },
      "outputs": [
        {
          "data": {
            "image/png": "[encoded data removed]",
            "text/plain": [
              "<Figure size 432x288 with 9 Axes>"
            ]
          },
          "metadata": {},
          "output_type": "display_data"
        }
      ],
      "source": [
        "dataset.plot(kind='density' ,subplots=True, layout=(3,3), sharex=False)\n",
        "pyplot.show()"
      ]
    },
    {
      "cell_type": "code",
      "execution_count": null,
      "metadata": {
        "colab": {
          "base_uri": "https://localhost:8080/"
        },
        "id": "euY_4RgKAWQ7",
        "outputId": "b890a417-cf74-4d20-c2c5-ef7ab04e87a2"
      },
      "outputs": [
        {
          "data": {
            "text/plain": [
              "Review    0\n",
              "Liked     0\n",
              "dtype: int64"
            ]
          },
          "execution_count": 14,
          "metadata": {},
          "output_type": "execute_result"
        }
      ],
      "source": [
        "dataset.isnull().sum()"
      ]
    },
    {
      "cell_type": "code",
      "execution_count": null,
      "metadata": {
        "id": "OVbUgvnTAc-J"
      },
      "outputs": [],
      "source": [
        "dataset = dataset.dropna()"
      ]
    },
    {
      "cell_type": "code",
      "execution_count": null,
      "metadata": {
        "colab": {
          "base_uri": "https://localhost:8080/"
        },
        "id": "ktwjYq62AjkS",
        "outputId": "2774b2de-a1e0-437c-d857-901004f2e322"
      },
      "outputs": [
        {
          "name": "stdout",
          "output_type": "stream",
          "text": [
            "                                                Review  Liked\n",
            "0                             Wow... Loved this place.      1\n",
            "1                                   Crust is not good.      0\n",
            "2            Not tasty and the texture was just nasty.      0\n",
            "3    Stopped by during the late May bank holiday of...      1\n",
            "4    The selection on the menu was great and so wer...      1\n",
            "..                                                 ...    ...\n",
            "995  I think food should have flavor and texture an...      0\n",
            "996                           Appetite instantly gone.      0\n",
            "997  Overall I was not impressed and would not go b...      0\n",
            "998  The whole experience was underwhelming, and I ...      0\n",
            "999  Then, as if I hadn't wasted enough of my life ...      0\n",
            "\n",
            "[1000 rows x 2 columns]\n"
          ]
        }
      ],
      "source": [
        "print(dataset)"
      ]
    },
    {
      "cell_type": "code",
      "execution_count": null,
      "metadata": {
        "colab": {
          "base_uri": "https://localhost:8080/"
        },
        "id": "gYjJaq4fAk7r",
        "outputId": "2fb7528f-2103-4c85-8cff-9cfb11276c4c"
      },
      "outputs": [
        {
          "name": "stdout",
          "output_type": "stream",
          "text": [
            "Wow... Loved this place.\n"
          ]
        }
      ],
      "source": [
        "print(dataset.loc[0][0])"
      ]
    },
    {
      "cell_type": "code",
      "execution_count": null,
      "metadata": {
        "id": "ivU9DrUqAzTV"
      },
      "outputs": [],
      "source": [
        "# Let us take text to understand process of data preprocessing in NLP\n",
        "text=\"Wow... Loved this place.\""
      ]
    },
    {
      "cell_type": "code",
      "execution_count": null,
      "metadata": {
        "colab": {
          "base_uri": "https://localhost:8080/"
        },
        "id": "WmhMONnnA9J5",
        "outputId": "048fb5e7-bc88-449d-a99f-f7377cee0c4e"
      },
      "outputs": [
        {
          "name": "stdout",
          "output_type": "stream",
          "text": [
            "Wow... Loved this place.\n",
            "-------------------------------------------------\n",
            "Review after removing number and punctuation marks. \n",
            "Wow    Loved this place \n"
          ]
        }
      ],
      "source": [
        "# First step: cleaning Text and removing number and punctuation marks.\n",
        "import re\n",
        "review = re.sub('[^a-zA-Z]', ' ', dataset['Review'][0])\n",
        "print(text)\n",
        "print('-------------------------------------------------')\n",
        "print('Review after removing number and punctuation marks. ')\n",
        "print(review)"
      ]
    },
    {
      "cell_type": "code",
      "execution_count": null,
      "metadata": {
        "colab": {
          "base_uri": "https://localhost:8080/"
        },
        "id": "02v3P_lCBv7c",
        "outputId": "c746e17c-3ecb-4db3-c66d-2ad078f59795"
      },
      "outputs": [
        {
          "name": "stdout",
          "output_type": "stream",
          "text": [
            "Wow... Loved this place.\n",
            "-------------------------------------------------\n",
            "Text after convering into lower case\n",
            "wow    loved this place \n"
          ]
        }
      ],
      "source": [
        "# Second  step: converting text into lower case.\n",
        "review=review.lower()\n",
        "print(text)\n",
        "print('-------------------------------------------------')\n",
        "print('Text after convering into lower case')\n",
        "print(review)"
      ]
    },
    {
      "cell_type": "code",
      "execution_count": null,
      "metadata": {
        "colab": {
          "base_uri": "https://localhost:8080/"
        },
        "id": "avbb90kECAuv",
        "outputId": "99f72518-bdd6-41e0-94dc-949e551e2c1f"
      },
      "outputs": [
        {
          "name": "stdout",
          "output_type": "stream",
          "text": [
            "['wow', 'loved', 'this', 'place']\n"
          ]
        },
        {
          "name": "stderr",
          "output_type": "stream",
          "text": [
            "[nltk_data] Downloading package stopwords to /root/nltk_data...\n",
            "[nltk_data]   Unzipping corpora/stopwords.zip.\n"
          ]
        }
      ],
      "source": [
        "# Third step: Removing stop words like 'this, the'\n",
        "import nltk\n",
        "nltk.download('stopwords')\n",
        "from nltk.corpus import stopwords\n",
        "review = review.split()\n",
        "print(review)"
      ]
    },
    {
      "cell_type": "code",
      "execution_count": null,
      "metadata": {
        "colab": {
          "base_uri": "https://localhost:8080/"
        },
        "id": "m1-4GOYfCVqc",
        "outputId": "613f3c4d-3b92-4092-9f03-0e07e16f9ec5"
      },
      "outputs": [
        {
          "name": "stdout",
          "output_type": "stream",
          "text": [
            "Text after removing stop words\n",
            "['wow', 'loved', 'place']\n"
          ]
        }
      ],
      "source": [
        "# Third step: Removing stop words like 'this, the'\n",
        "# set function is generally used for long article to fasten process\n",
        "review1 = [word for word in review if not word in set(stopwords.words('english'))]\n",
        "print('Text after removing stop words')\n",
        "print(review1)"
      ]
    },
    {
      "cell_type": "code",
      "execution_count": null,
      "metadata": {
        "colab": {
          "base_uri": "https://localhost:8080/"
        },
        "id": "vkC6aZ6RC3mC",
        "outputId": "551095f3-17cf-421c-b131-547388c24f2f"
      },
      "outputs": [
        {
          "name": "stdout",
          "output_type": "stream",
          "text": [
            "After converting stemmer words\n",
            "['wow', 'love', 'place']\n"
          ]
        }
      ],
      "source": [
        "# Fourth step: converting stemming words\n",
        "from nltk.stem.porter import PorterStemmer\n",
        "ps = PorterStemmer()\n",
        "review = [ps.stem(word) for word in review1 if not word in set(stopwords.words('english'))]\n",
        "print('After converting stemmer words')\n",
        "print(review)"
      ]
    },
    {
      "cell_type": "code",
      "execution_count": null,
      "metadata": {
        "id": "_w5NgaXsDxJn"
      },
      "outputs": [],
      "source": [
        "review2 = ' '.join(review)"
      ]
    },
    {
      "cell_type": "code",
      "execution_count": null,
      "metadata": {
        "colab": {
          "base_uri": "https://localhost:8080/"
        },
        "id": "rWgEweojETD8",
        "outputId": "e861f80c-d0cb-4280-befd-b3c308c1a035"
      },
      "outputs": [
        {
          "name": "stdout",
          "output_type": "stream",
          "text": [
            "wow love place\n",
            "['wow love place']\n",
            "[[1 1 1]]\n"
          ]
        }
      ],
      "source": [
        "# Creating the Bag of Words model\n",
        "corpus1 = []\n",
        "from sklearn.feature_extraction.text import CountVectorizer\n",
        "cv = CountVectorizer(max_features = 1500)\n",
        "print(review2)\n",
        "corpus1.append(review2)\n",
        "print(corpus1)\n",
        "X = cv.fit_transform(corpus1).toarray()\n",
        "print(X)"
      ]
    },
    {
      "cell_type": "code",
      "execution_count": null,
      "metadata": {
        "colab": {
          "base_uri": "https://localhost:8080/"
        },
        "id": "sJegAARXEf1x",
        "outputId": "9622fe24-1334-4a92-e46f-5b0b2f4c9033"
      },
      "outputs": [
        {
          "name": "stderr",
          "output_type": "stream",
          "text": [
            "[nltk_data] Downloading package stopwords to /root/nltk_data...\n",
            "[nltk_data]   Package stopwords is already up-to-date!\n"
          ]
        },
        {
          "name": "stdout",
          "output_type": "stream",
          "text": [
            "wow love place\n",
            "crust good\n",
            "tasti textur nasti\n",
            "stop late may bank holiday rick steve recommend love\n",
            "select menu great price\n",
            "get angri want damn pho\n",
            "honeslti tast fresh\n",
            "potato like rubber could tell made ahead time kept warmer\n",
            "fri great\n",
            "great touch\n",
            "servic prompt\n",
            "would go back\n",
            "cashier care ever say still end wayyy overpr\n",
            "tri cape cod ravoli chicken cranberri mmmm\n",
            "disgust pretti sure human hair\n",
            "shock sign indic cash\n",
            "highli recommend\n",
            "waitress littl slow servic\n",
            "place worth time let alon vega\n",
            "like\n",
            "burritto blah\n",
            "food amaz\n",
            "servic also cute\n",
            "could care less interior beauti\n",
            "perform\n",
            "right red velvet cake ohhh stuff good\n",
            "never brought salad ask\n",
            "hole wall great mexican street taco friendli staff\n",
            "took hour get food tabl restaur food luke warm sever run around like total overwhelm\n",
            "worst salmon sashimi\n",
            "also combo like burger fri beer decent deal\n",
            "like final blow\n",
            "found place accid could happier\n",
            "seem like good quick place grab bite familiar pub food favor look elsewher\n",
            "overal like place lot\n",
            "redeem qualiti restaur inexpens\n",
            "ampl portion good price\n",
            "poor servic waiter made feel like stupid everi time came tabl\n",
            "first visit hiro delight\n",
            "servic suck\n",
            "shrimp tender moist\n",
            "deal good enough would drag establish\n",
            "hard judg whether side good gross melt styrofoam want eat fear get sick\n",
            "posit note server attent provid great servic\n",
            "frozen puck disgust worst peopl behind regist\n",
            "thing like prime rib dessert section\n",
            "bad food damn gener\n",
            "burger good beef cook right\n",
            "want sandwich go firehous\n",
            "side greek salad greek dress tasti pita hummu refresh\n",
            "order duck rare pink tender insid nice char outsid\n",
            "came run us realiz husband left sunglass tabl\n",
            "chow mein good\n",
            "horribl attitud toward custom talk one custom enjoy food\n",
            "portion huge\n",
            "love friendli server great food wonder imagin menu\n",
            "heart attack grill downtown vega absolut flat line excus restaur\n",
            "much seafood like string pasta bottom\n",
            "salad right amount sauc power scallop perfectli cook\n",
            "rip banana rip petrifi tasteless\n",
            "least think refil water struggl wave minut\n",
            "place receiv star appet\n",
            "cocktail handmad delici\n",
            "definit go back\n",
            "glad found place\n",
            "great food servic huge portion give militari discount\n",
            "alway great time do gringo\n",
            "updat went back second time still amaz\n",
            "got food appar never heard salt batter fish chewi\n",
            "great way finish great\n",
            "deal includ tast drink jeff went beyond expect\n",
            "realli realli good rice time\n",
            "servic meh\n",
            "took min get milkshak noth chocol milk\n",
            "guess known place would suck insid excalibur use common sens\n",
            "scallop dish quit appal valu well\n",
            "time bad custom servic\n",
            "sweet potato fri good season well\n",
            "today second time lunch buffet pretti good\n",
            "much good food vega feel cheat wast eat opportun go rice compani\n",
            "come like experienc underwhelm relationship parti wait person ask break\n",
            "walk place smell like old greas trap other eat\n",
            "turkey roast beef bland\n",
            "place\n",
            "pan cake everyon rave tast like sugari disast tailor palat six year old\n",
            "love pho spring roll oh yummi tri\n",
            "poor batter meat ratio made chicken tender unsatisfi\n",
            "say food amaz\n",
            "omelet die\n",
            "everyth fresh delici\n",
            "summari larg disappoint dine experi\n",
            "like realli sexi parti mouth outrag flirt hottest person parti\n",
            "never hard rock casino never ever step forward\n",
            "best breakfast buffet\n",
            "say bye bye tip ladi\n",
            "never go\n",
            "back\n",
            "food arriv quickli\n",
            "good\n",
            "side cafe serv realli good food\n",
            "server fantast found wife love roast garlic bone marrow ad extra meal anoth marrow go\n",
            "good thing waiter help kept bloddi mari come\n",
            "best buffet town price cannot beat\n",
            "love mussel cook wine reduct duck tender potato dish delici\n",
            "one better buffet\n",
            "went tigerlilli fantast afternoon\n",
            "food delici bartend attent person got great deal\n",
            "ambienc wonder music play\n",
            "go back next trip\n",
            "sooooo good\n",
            "real sushi lover let honest yama good\n",
            "least min pass us order food arriv busi\n",
            "realli fantast thai restaur definit worth visit\n",
            "nice spici tender\n",
            "good price\n",
            "check\n",
            "pretti gross\n",
            "better atmospher\n",
            "kind hard mess steak\n",
            "although much like look sound place actual experi bit disappoint\n",
            "know place manag serv blandest food ever eaten prepar indian cuisin\n",
            "worst servic boot least worri\n",
            "servic fine waitress friendli\n",
            "guy steak steak love son steak best worst place said best steak ever eaten\n",
            "thought ventur away get good sushi place realli hit spot night\n",
            "host staff lack better word bitch\n",
            "bland like place number reason want wast time bad review leav\n",
            "phenomen food servic ambianc\n",
            "return\n",
            "definit worth ventur strip pork belli return next time vega\n",
            "place way overpr mediocr food\n",
            "penn vodka excel\n",
            "good select food includ massiv meatloaf sandwich crispi chicken wrap delish tuna melt tasti burger\n",
            "manag rude\n",
            "delici nyc bagel good select cream chees real lox caper even\n",
            "great subway fact good come everi subway meet expect\n",
            "serious solid breakfast\n",
            "one best bar food vega\n",
            "extrem rude realli mani restaur would love dine weekend vega\n",
            "drink never empti made realli great menu suggest\n",
            "\n",
            "waiter help friendli rare check us\n",
            "husband ate lunch disappoint food servic\n",
            "red curri much bamboo shoot tasti\n",
            "nice blanket moz top feel like done cover subpar food\n",
            "bathroom clean place well decor\n",
            "menu alway chang food qualiti go servic extrem slow\n",
            "servic littl slow consid serv peopl server food come slow pace\n",
            "give thumb\n",
            "watch waiter pay lot attent tabl ignor us\n",
            "fianc came middl day greet seat right away\n",
            "great restaur mandalay bay\n",
            "wait forti five minut vain\n",
            "crostini came salad stale\n",
            "highlight great qualiti nigiri\n",
            "staff friendli joint alway clean\n",
            "differ cut piec day still wonder tender well well flavor\n",
            "order voodoo pasta first time realli excel pasta sinc go gluten free sever year ago\n",
            "place good\n",
            "unfortun must hit bakeri leftov day everyth order stale\n",
            "came back today sinc reloc still impress\n",
            "seat immedi\n",
            "menu divers reason price\n",
            "avoid cost\n",
            "restaur alway full never wait\n",
            "delici\n",
            "place hand one best place eat phoenix metro area\n",
            "go look good food\n",
            "never treat bad\n",
            "bacon hella salti\n",
            "also order spinach avocado salad ingredi sad dress liter zero tast\n",
            "realli vega fine dine use right menu hand ladi price list\n",
            "waitress friendli\n",
            "lordi khao soi dish miss curri lover\n",
            "everyth menu terrif also thrill made amaz accommod vegetarian daughter\n",
            "perhap caught night judg review inspir go back\n",
            "servic leav lot desir\n",
            "atmospher modern hip maintain touch cozi\n",
            "weekli haunt definit place come back everi\n",
            "liter sat minut one ask take order\n",
            "burger absolut flavor meat total bland burger overcook charcoal flavor\n",
            "also decid send back waitress look like verg heart attack\n",
            "dress treat rude\n",
            "probabl dirt\n",
            "love place hit spot want someth healthi lack quantiti flavor\n",
            "order lemon raspberri ice cocktail also incred\n",
            "food suck expect suck could imagin\n",
            "interest decor\n",
            "realli like crepe station\n",
            "also serv hot bread butter home made potato chip bacon bit top origin good\n",
            "watch prepar delici food\n",
            "egg roll fantast\n",
            "order arriv one gyro miss\n",
            "salad wing ice cream dessert left feel quit satisfi\n",
            "realli sure joey vote best hot dog valley reader phoenix magazin\n",
            "best place go tasti bowl pho\n",
            "live music friday total blow\n",
            "never insult felt disrespect\n",
            "friendli staff\n",
            "worth drive\n",
            "heard good thing place exceed everi hope could dream\n",
            "food great serivc\n",
            "warm beer help\n",
            "great brunch spot\n",
            "servic friendli invit\n",
            "good lunch spot\n",
            "live sinc first last time step foot place\n",
            "worst experi ever\n",
            "must night place\n",
            "side delish mix mushroom yukon gold pure white corn beateou\n",
            "bug never show would given sure side wall bug climb kitchen\n",
            "minut wait salad realiz come time soon\n",
            "friend love salmon tartar\n",
            "go back\n",
            "extrem tasti\n",
            "waitress good though\n",
            "soggi good\n",
            "jamaican mojito delici\n",
            "small worth price\n",
            "food rich order accordingli\n",
            "shower area outsid rins take full shower unless mind nude everyon see\n",
            "servic bit lack\n",
            "lobster bisqu bussel sprout risotto filet need salt pepper cours none tabl\n",
            "hope bode go busi someon cook come\n",
            "either cold enough flavor bad\n",
            "love bacon wrap date\n",
            "unbeliev bargain\n",
            "folk otto alway make us feel welcom special\n",
            "main also uninspir\n",
            "place first pho amaz\n",
            "wonder experi made place must stop whenev town\n",
            "food bad enough enjoy deal world worst annoy drunk peopl\n",
            "fun chef\n",
            "order doubl cheeseburg got singl patti fall apart pictur upload yeah still suck\n",
            "great place coupl drink watch sport event wall cover tv\n",
            "possibl give zero star\n",
            "descript said yum yum sauc anoth said eel sauc yet anoth said spici mayo well none roll sauc\n",
            "say would hardest decis honestli dish tast suppos tast amaz\n",
            "roll eye may stay sure go back tri\n",
            "everyon attent provid excel custom servic\n",
            "horribl wast time money\n",
            "dish quit flavour\n",
            "time side restaur almost empti excus\n",
            "busi either also build freez cold\n",
            "like review said pay eat place\n",
            "drink took close minut come one point\n",
            "serious flavor delight folk\n",
            "much better ayc sushi place went vega\n",
            "light dark enough set mood\n",
            "base sub par servic receiv effort show gratitud busi go back\n",
            "owner realli great peopl\n",
            "noth privileg work eat\n",
            "greek dress creami flavor\n",
            "overal think would take parent place made similar complaint silent felt\n",
            "pizza good peanut sauc tasti\n",
            "tabl servic pretti fast\n",
            "fantast servic\n",
            "well would given godfath zero star possibl\n",
            "know make\n",
            "tough short flavor\n",
            "hope place stick around\n",
            "bar vega ever recal charg tap water\n",
            "restaur atmospher exquisit\n",
            "good servic clean inexpens boot\n",
            "seafood fresh gener portion\n",
            "plu buck\n",
            "servic par either\n",
            "thu far visit twice food absolut delici time\n",
            "good year ago\n",
            "self proclaim coffe cafe wildli disappoint\n",
            "veggitarian platter world\n",
            "cant go wrong food\n",
            "beat\n",
            "stop place madison ironman friendli kind staff\n",
            "chef friendli good job\n",
            "better dedic boba tea spot even jenni pho\n",
            "like patio servic outstand\n",
            "goat taco skimp meat wow flavor\n",
            "think\n",
            "mac salad pretti bland get\n",
            "went bachi burger friend recommend disappoint\n",
            "servic stink\n",
            "wait wait\n",
            "place qualiti sushi qualiti restaur\n",
            "would definit recommend wing well pizza\n",
            "great pizza salad\n",
            "thing went wrong burn saganaki\n",
            "wait hour breakfast could done time better home\n",
            "place amaz\n",
            "hate disagre fellow yelper husband disappoint place\n",
            "wait hour never got either pizza mani around us came later\n",
            "know slow\n",
            "staff great food delish incred beer select\n",
            "live neighborhood disappoint back conveni locat\n",
            "know pull pork could soooo delici\n",
            "get incred fresh fish prepar care\n",
            "go gave star rate pleas know third time eat bachi burger write review\n",
            "love fact everyth menu worth\n",
            "never dine place\n",
            "food excel servic good\n",
            "good beer drink select good food select\n",
            "pleas stay away shrimp stir fri noodl\n",
            "potato chip order sad could probabl count mani chip box probabl around\n",
            "food realli bore\n",
            "good servic check\n",
            "greedi corpor never see anoth dime\n",
            "never ever go back\n",
            "much like go back get pass atroci servic never return\n",
            "summer dine charm outdoor patio delight\n",
            "expect good\n",
            "fantast food\n",
            "order toast english muffin came untoast\n",
            "food good\n",
            "never go back\n",
            "great food price high qualiti hous made\n",
            "bu boy hand rude\n",
            "point friend basic figur place joke mind make publicli loudli known\n",
            "back good bbq lighter fare reason price tell public back old way\n",
            "consid two us left full happi go wrong\n",
            "bread made hous\n",
            "downsid servic\n",
            "also fri without doubt worst fri ever\n",
            "servic except food good review\n",
            "coupl month later return amaz meal\n",
            "favorit place town shawarrrrrrma\n",
            "black eye pea sweet potato unreal\n",
            "disappoint\n",
            "could serv vinaigrett may make better overal dish still good\n",
            "go far mani place never seen restaur serv egg breakfast especi\n",
            "mom got home immedi got sick bite salad\n",
            "server pleasant deal alway honor pizza hut coupon\n",
            "truli unbeliev good glad went back\n",
            "fantast servic pleas atmospher\n",
            "everyth gross\n",
            "love place\n",
            "great servic food\n",
            "first bathroom locat dirti seat cover replenish plain yucki\n",
            "burger got gold standard burger kind disappoint\n",
            "omg food delicioso\n",
            "noth authent place\n",
            "spaghetti noth special whatsoev\n",
            "dish salmon best great\n",
            "veget fresh sauc feel like authent thai\n",
            "worth drive tucson\n",
            "select probabl worst seen vega none\n",
            "pretti good beer select\n",
            "place like chipotl better\n",
            "classi warm atmospher fun fresh appet succul steak basebal steak\n",
            "star brick oven bread app\n",
            "eaten multipl time time food delici\n",
            "sat anoth ten minut final gave left\n",
            "terribl\n",
            "everyon treat equal special\n",
            "take min pancak egg\n",
            "delici\n",
            "good side staff genuin pleasant enthusiast real treat\n",
            "sadli gordon ramsey steak place shall sharpli avoid next trip vega\n",
            "alway even wonder food delici\n",
            "best fish ever life\n",
            "bathroom next door nice\n",
            "buffet small food offer bland\n",
            "outstand littl restaur best food ever tast\n",
            "pretti cool would say\n",
            "definit turn doubt back unless someon els buy\n",
            "server great job handl larg rowdi tabl\n",
            "find wast food despic food\n",
            "wife lobster bisqu soup lukewarm\n",
            "would come back sushi crave vega\n",
            "staff great ambianc great\n",
            "deserv star\n",
            "left stomach ach felt sick rest day\n",
            "drop ball\n",
            "dine space tini elegantli decor comfort\n",
            "custom order way like usual eggplant green bean stir fri love\n",
            "bean rice mediocr best\n",
            "best taco town far\n",
            "took back money got outta\n",
            "interest part town place amaz\n",
            "rude inconsider manag\n",
            "staff friendli wait time serv horribl one even say hi first minut\n",
            "back\n",
            "great dinner\n",
            "servic outshin definit recommend halibut\n",
            "food terribl\n",
            "never ever go back told mani peopl happen\n",
            "recommend unless car break front starv\n",
            "come back everi time vega\n",
            "place deserv one star food\n",
            "disgrac\n",
            "def come back bowl next time\n",
            "want healthi authent ethic food tri place\n",
            "continu come ladi night andddd date night highli recommend place anyon area\n",
            "sever time past experi alway great\n",
            "walk away stuf happi first vega buffet experi\n",
            "servic excel price pretti reason consid vega locat insid crystal shop mall aria\n",
            "summar food incred nay transcend noth bring joy quit like memori pneumat condiment dispens\n",
            "probabl one peopl ever go ian like\n",
            "kid pizza alway hit lot great side dish option kiddo\n",
            "servic perfect famili atmospher nice see\n",
            "cook perfect servic impecc\n",
            "one simpli disappoint\n",
            "overal disappoint qualiti food bouchon\n",
            "account know get screw\n",
            "great place eat remind littl mom pop shop san francisco bay area\n",
            "today first tast buldogi gourmet hot dog tell ever thought possibl\n",
            "left frustrat\n",
            "definit soon\n",
            "food realli good got full petti fast\n",
            "servic fantast\n",
            "total wast time\n",
            "know kind best ice tea\n",
            "come hungri leav happi stuf\n",
            "servic give star\n",
            "assur disappoint\n",
            "take littl bad servic food suck\n",
            "gave tri eat crust teeth still sore\n",
            "complet gross\n",
            "realli enjoy eat\n",
            "first time go think quickli becom regular\n",
            "server nice even though look littl overwhelm need stay profession friendli end\n",
            "dinner companion told everyth fresh nice textur tast\n",
            "ground right next tabl larg smear step track everywher pile green bird poop\n",
            "furthermor even find hour oper websit\n",
            "tri like place time think done\n",
            "mistak\n",
            "complaint\n",
            "serious good pizza expert connisseur topic\n",
            "waiter jerk\n",
            "strike want rush\n",
            "nicest restaur owner ever come across\n",
            "never come\n",
            "love biscuit\n",
            "servic quick friendli\n",
            "order appet took minut pizza anoth minut\n",
            "absolutley fantast\n",
            "huge awkward lb piec cow th gristl fat\n",
            "definit come back\n",
            "like steiner dark feel like bar\n",
            "wow spici delici\n",
            "familiar check\n",
            "take busi dinner dollar elsewher\n",
            "love go back\n",
            "anyway fs restaur wonder breakfast lunch\n",
            "noth special\n",
            "day week differ deal delici\n",
            "mention combin pear almond bacon big winner\n",
            "back\n",
            "sauc tasteless\n",
            "food delici spici enough sure ask spicier prefer way\n",
            "ribey steak cook perfectli great mesquit flavor\n",
            "think go back anytim soon\n",
            "food gooodd\n",
            "far sushi connoisseur definit tell differ good food bad food certainli bad food\n",
            "insult\n",
            "last time lunch bad\n",
            "chicken wing contain driest chicken meat ever eaten\n",
            "food good enjoy everi mouth enjoy relax venu coupl small famili group etc\n",
            "nargil think great\n",
            "best tater tot southwest\n",
            "love place\n",
            "definit worth paid\n",
            "vanilla ice cream creami smooth profiterol choux pastri fresh enough\n",
            "im az time new spot\n",
            "manag worst\n",
            "insid realli quit nice clean\n",
            "food outstand price reason\n",
            "think run back carli anytim soon food\n",
            "due fact took minut acknowledg anoth minut get food kept forget thing\n",
            "love margarita\n",
            "first vega buffet disappoint\n",
            "good though\n",
            "one note ventil could use upgrad\n",
            "great pork sandwich\n",
            "wast time\n",
            "total letdown would much rather go camelback flower shop cartel coffe\n",
            "third chees friend burger cold\n",
            "enjoy pizza brunch\n",
            "steak well trim also perfectli cook\n",
            "group claim would handl us beauti\n",
            "love\n",
            "ask bill leav without eat bring either\n",
            "place jewel la vega exactli hope find nearli ten year live\n",
            "seafood limit boil shrimp crab leg crab leg definit tast fresh\n",
            "select food best\n",
            "delici absolut back\n",
            "small famili restaur fine dine establish\n",
            "toro tartar cavier extraordinari like thinli slice wagyu white truffl\n",
            "dont think back long time\n",
            "attach ga station rare good sign\n",
            "awesom\n",
            "back mani time soon\n",
            "menu much good stuff could decid\n",
            "wors humili worker right front bunch horribl name call\n",
            "conclus fill meal\n",
            "daili special alway hit group\n",
            "tragedi struck\n",
            "pancak also realli good pretti larg\n",
            "first crawfish experi delici\n",
            "monster chicken fri steak egg time favorit\n",
            "waitress sweet funni\n",
            "also tast mom multi grain pumpkin pancak pecan butter amaz fluffi delici\n",
            "rather eat airlin food serious\n",
            "cant say enough good thing place\n",
            "ambianc incred\n",
            "waitress manag friendli\n",
            "would recommend place\n",
            "overal impress noca\n",
            "gyro basic lettuc\n",
            "terribl servic\n",
            "thoroughli disappoint\n",
            "much pasta love homemad hand made pasta thin pizza\n",
            "give tri happi\n",
            "far best cheesecurd ever\n",
            "reason price also\n",
            "everyth perfect night\n",
            "food good typic bar food\n",
            "drive get\n",
            "first glanc love bakeri cafe nice ambianc clean friendli staff\n",
            "anyway think go back\n",
            "point finger item menu order disappoint\n",
            "oh thing beauti restaur\n",
            "gone go\n",
            "greasi unhealthi meal\n",
            "first time might last\n",
            "burger amaz\n",
            "similarli deliveri man say word apolog food minut late\n",
            "way expens\n",
            "sure order dessert even need pack go tiramisu cannoli die\n",
            "first time wait next\n",
            "bartend also nice\n",
            "everyth good tasti\n",
            "place two thumb way\n",
            "best place vega breakfast check sat sun\n",
            "love authent mexican food want whole bunch interest yet delici meat choos need tri place\n",
            "terribl manag\n",
            "excel new restaur experienc frenchman\n",
            "zero star would give zero star\n",
            "great steak great side great wine amaz dessert\n",
            "worst martini ever\n",
            "steak shrimp opinion best entre gc\n",
            "opportun today sampl amaz pizza\n",
            "wait thirti minut seat although vacant tabl folk wait\n",
            "yellowtail carpaccio melt mouth fresh\n",
            "tri go back even empti\n",
            "go eat potato found stranger hair\n",
            "spici enough perfect actual\n",
            "last night second time dine happi decid go back\n",
            "even hello right\n",
            "dessert bit strang\n",
            "boyfriend came first time recent trip vega could pleas qualiti food servic\n",
            "realli recommend place go wrong donut place\n",
            "nice ambianc\n",
            "would recommend save room\n",
            "guess mayb went night disgrac\n",
            "howev recent experi particular locat good\n",
            "know like restaur someth\n",
            "avoid establish\n",
            "think restaur suffer tri hard enough\n",
            "tapa dish delici\n",
            "heart place\n",
            "salad bland vinegrett babi green heart palm\n",
            "two felt disgust\n",
            "good time\n",
            "believ place great stop huge belli hanker sushi\n",
            "gener portion great tast\n",
            "never go back place never ever recommend place anyon\n",
            "server went back forth sever time even much help\n",
            "food delici\n",
            "hour serious\n",
            "consid theft\n",
            "eew locat need complet overhaul\n",
            "recent wit poor qualiti manag toward guest well\n",
            "wait wait wait\n",
            "also came back check us regularli excel servic\n",
            "server super nice check us mani time\n",
            "pizza tast old super chewi good way\n",
            "swung give tri deepli disappoint\n",
            "servic good compani better\n",
            "staff also friendli effici\n",
            "servic fan quick serv nice folk\n",
            "boy sucker dri\n",
            "rate\n",
            "look authent thai food go els\n",
            "steak recommend\n",
            "pull car wait anoth minut acknowledg\n",
            "great food great servic clean friendli set\n",
            "assur back\n",
            "hate thing much cheap qualiti black oliv\n",
            "breakfast perpar great beauti present giant slice toast lightli dust powder sugar\n",
            "kid play area nasti\n",
            "great place fo take eat\n",
            "waitress friendli happi accomod vegan veggi option\n",
            "omg felt like never eaten thai food dish\n",
            "extrem crumbi pretti tasteless\n",
            "pale color instead nice char flavor\n",
            "crouton also tast homemad extra plu\n",
            "got home see driest damn wing ever\n",
            "regular stop trip phoenix\n",
            "realli enjoy crema caf expand even told friend best breakfast\n",
            "good money\n",
            "miss wish one philadelphia\n",
            "got sit fairli fast end wait minut place order anoth minut food arriv\n",
            "also best chees crisp town\n",
            "good valu great food great servic\n",
            "ask satisfi meal\n",
            "food good\n",
            "awesom\n",
            "want leav\n",
            "made drive way north scottsdal one bit disappoint\n",
            "eat\n",
            "owner realli realli need quit soooooo cheap let wrap freak sandwich two paper one\n",
            "check place coupl year ago impress\n",
            "chicken got definit reheat ok wedg cold soggi\n",
            "sorri get food anytim soon\n",
            "absolut must visit\n",
            "cow tongu cheek taco amaz\n",
            "friend like bloodi mari\n",
            "despit hard rate busi actual rare give star\n",
            "realli want make experi good one\n",
            "return\n",
            "chicken pho tast bland\n",
            "disappoint\n",
            "grill chicken tender yellow saffron season\n",
            "drive thru mean want wait around half hour food somehow end go make us wait wait\n",
            "pretti awesom place\n",
            "ambienc perfect\n",
            "best luck rude non custom servic focus new manag\n",
            "grandmoth make roast chicken better one\n",
            "ask multipl time wine list time ignor went hostess got one\n",
            "staff alway super friendli help especi cool bring two small boy babi\n",
            "four star food guy blue shirt great vibe still let us eat\n",
            "roast beef sandwich tast realli good\n",
            "even drastic sick\n",
            "high qualiti chicken chicken caesar salad\n",
            "order burger rare came done\n",
            "promptli greet seat\n",
            "tri go lunch madhous\n",
            "proven dead wrong sushi bar qualiti great servic fast food impecc\n",
            "wait hour seat greatest mood\n",
            "good joint\n",
            "macaron insan good\n",
            "eat\n",
            "waiter attent friendli inform\n",
            "mayb cold would somewhat edibl\n",
            "place lot promis fail deliv\n",
            "bad experi\n",
            "mistak\n",
            "food averag best\n",
            "great food\n",
            "go back anytim soon\n",
            "disappoint order big bay plater\n",
            "great place relax awesom burger beer\n",
            "perfect sit famili meal get togeth friend\n",
            "much flavor poorli construct\n",
            "patio seat comfort\n",
            "fri rice dri well\n",
            "hand favorit italian restaur\n",
            "scream legit book somethat also pretti rare vega\n",
            "fun experi\n",
            "atmospher great love duo violinist play song request\n",
            "person love hummu pita baklava falafel baba ganoush amaz eggplant\n",
            "conveni sinc stay mgm\n",
            "owner super friendli staff courteou\n",
            "great\n",
            "eclect select\n",
            "sweet potato tot good onion ring perfect close\n",
            "staff attent\n",
            "chef gener time even came around twice take pictur\n",
            "owner use work nobu place realli similar half price\n",
            "googl mediocr imagin smashburg pop\n",
            "dont go\n",
            "promis disappoint\n",
            "sushi lover avoid place mean\n",
            "great doubl cheeseburg\n",
            "awesom servic food\n",
            "fantast neighborhood gem\n",
            "wait go back\n",
            "plantain worst ever tast\n",
            "great place highli recommend\n",
            "servic slow attent\n",
            "gave star give star\n",
            "staff spend time talk\n",
            "dessert panna cotta amaz\n",
            "good food great atmospher\n",
            "damn good steak\n",
            "total brunch fail\n",
            "price reason flavor spot sauc home made slaw drench mayo\n",
            "decor nice piano music soundtrack pleasant\n",
            "steak amaz rge fillet relleno best seafood plate ever\n",
            "good food good servic\n",
            "absolut amaz\n",
            "probabl back honest\n",
            "definit back\n",
            "sergeant pepper beef sandwich auju sauc excel sandwich well\n",
            "hawaiian breez mango magic pineappl delight smoothi tri far good\n",
            "went lunch servic slow\n",
            "much say place walk expect amaz quickli disappoint\n",
            "mortifi\n",
            "needless say never back\n",
            "anyway food definit fill price pay expect\n",
            "chip came drip greas mostli edibl\n",
            "realli impress strip steak\n",
            "go sinc everi meal awesom\n",
            "server nice attent serv staff\n",
            "cashier friendli even brought food\n",
            "work hospit industri paradis valley refrain recommend cibo longer\n",
            "atmospher fun\n",
            "would recommend other\n",
            "servic quick even go order like like\n",
            "mean realli get famou fish chip terribl\n",
            "said mouth belli still quit pleas\n",
            "thing\n",
            "thumb\n",
            "read pleas go\n",
            "love grill pizza remind legit italian pizza\n",
            "pro larg seat area nice bar area great simpl drink menu best brick oven pizza homemad dough\n",
            "realli nice atmospher\n",
            "tonight elk filet special suck\n",
            "one bite hook\n",
            "order old classic new dish go time sore disappoint everyth\n",
            "cute quaint simpl honest\n",
            "chicken delici season perfect fri outsid moist chicken insid\n",
            "food great alway compliment chef\n",
            "special thank dylan recommend order yummi tummi\n",
            "awesom select beer\n",
            "great food awesom servic\n",
            "one nice thing ad gratuiti bill sinc parti larger expect tip\n",
            "fli appl juic fli\n",
            "han nan chicken also tasti\n",
            "servic thought good\n",
            "food bare lukewarm must sit wait server bring us\n",
            "ryan bar definit one edinburgh establish revisit\n",
            "nicest chines restaur\n",
            "overal like food servic\n",
            "also serv indian naan bread hummu spici pine nut sauc world\n",
            "probabl never come back recommend\n",
            "friend pasta also bad bare touch\n",
            "tri airport experi tasti food speedi friendli servic\n",
            "love decor chines calligraphi wall paper\n",
            "never anyth complain\n",
            "restaur clean famili restaur feel\n",
            "way fri\n",
            "sure long stood long enough begin feel awkwardli place\n",
            "open sandwich impress good way\n",
            "back\n",
            "warm feel servic felt like guest special treat\n",
            "extens menu provid lot option breakfast\n",
            "alway order vegetarian menu dinner wide array option choos\n",
            "watch price inflat portion get smaller manag attitud grow rapidli\n",
            "wonder lil tapa ambienc made feel warm fuzzi insid\n",
            "got enjoy seafood salad fabul vinegrett\n",
            "wonton thin thick chewi almost melt mouth\n",
            "level spici perfect spice whelm soup\n",
            "sat right time server get go fantast\n",
            "main thing enjoy crowd older crowd around mid\n",
            "side town definit spot hit\n",
            "wait minut get drink longer get arepa\n",
            "great place eat\n",
            "jalapeno bacon soooo good\n",
            "servic poor that nice\n",
            "food good servic good price good\n",
            "place clean food oh stale\n",
            "chicken dish ok beef like shoe leather\n",
            "servic beyond bad\n",
            "happi\n",
            "tast like dirt\n",
            "one place phoenix would defin go back\n",
            "block amaz\n",
            "close hous low key non fanci afford price good food\n",
            "hot sour egg flower soup absolut star\n",
            "sashimi poor qualiti soggi tasteless\n",
            "great time famili dinner sunday night\n",
            "food tasti say real tradit hunan style\n",
            "bother slow servic\n",
            "flair bartend absolut amaz\n",
            "frozen margarita way sugari tast\n",
            "good order twice\n",
            "nutshel restaraunt smell like combin dirti fish market sewer\n",
            "girlfriend veal bad\n",
            "unfortun good\n",
            "pretti satifi experi\n",
            "join club get awesom offer via email\n",
            "perfect someon like beer ice cold case even colder\n",
            "bland flavorless good way describ bare tepid meat\n",
            "chain fan beat place easili\n",
            "nacho must\n",
            "come back\n",
            "mani word say place everyth pretti well\n",
            "staff super nice quick even crazi crowd downtown juri lawyer court staff\n",
            "great atmospher friendli fast servic\n",
            "receiv pita huge lot meat thumb\n",
            "food arriv meh\n",
            "pay hot dog fri look like came kid meal wienerschnitzel idea good meal\n",
            "classic main lobster roll fantast\n",
            "brother law work mall ate day guess sick night\n",
            "good go review place twice herea tribut place tribut event held last night\n",
            "chip salsa realli good salsa fresh\n",
            "place great\n",
            "mediocr food\n",
            "get insid impress place\n",
            "super pissd\n",
            "servic super friendli\n",
            "sad littl veget overcook\n",
            "place nice surpris\n",
            "golden crispi delici\n",
            "high hope place sinc burger cook charcoal grill unfortun tast fell flat way flat\n",
            "could eat bruschetta day devin\n",
            "singl employe came see ok even need water refil final serv us food\n",
            "lastli mozzarella stick best thing order\n",
            "first time ever came amaz experi still tell peopl awesom duck\n",
            "server neglig need made us feel unwelcom would suggest place\n",
            "servic terribl though\n",
            "place overpr consist boba realli overpr\n",
            "pack\n",
            "love place\n",
            "say dessert yummi\n",
            "food terribl\n",
            "season fruit fresh white peach pure\n",
            "kept get wors wors offici done\n",
            "place honestli blown\n",
            "definit would eat\n",
            "wast money\n",
            "love put food nice plastic contain oppos cram littl paper takeout box\n",
            "cr pe delic thin moist\n",
            "aw servic\n",
            "ever go\n",
            "food qualiti horribl\n",
            "price think place would much rather gone\n",
            "servic fair best\n",
            "love sushi found kabuki price hip servic\n",
            "favor stay away dish\n",
            "poor servic\n",
            "one tabl thought food averag worth wait\n",
            "best servic food ever maria server good friendli made day\n",
            "excel\n",
            "paid bill tip felt server terribl job\n",
            "lunch great experi\n",
            "never bland food surpris consid articl read focus much spice flavor\n",
            "food way overpr portion fuck small\n",
            "recent tri caballero back everi week sinc\n",
            "buck head realli expect better food\n",
            "food came good pace\n",
            "ate twice last visit especi enjoy salmon salad\n",
            "back\n",
            "could believ dirti oyster\n",
            "place deserv star\n",
            "would recommend place\n",
            "fact go round star awesom\n",
            "disbelief dish qualifi worst version food ever tast\n",
            "bad day low toler rude custom servic peopl job nice polit wash dish otherwis\n",
            "potato great biscuit\n",
            "probabl would go\n",
            "flavor perfect amount heat\n",
            "price reason servic great\n",
            "wife hate meal coconut shrimp friend realli enjoy meal either\n",
            "fella got huevo ranchero look appeal\n",
            "went happi hour great list wine\n",
            "may say buffet pricey think get pay place get quit lot\n",
            "probabl come back\n",
            "worst food servic\n",
            "place pretti good nice littl vibe restaur\n",
            "talk great custom servic cours back\n",
            "hot dish hot cold dish close room temp watch staff prepar food bare hand glove everyth deep fri oil\n",
            "love fri bean\n",
            "alway pleasur deal\n",
            "plethora salad sandwich everyth tri get seal approv\n",
            "place awesom want someth light healthi summer\n",
            "sushi strip place go\n",
            "servic great even manag came help tabl\n",
            "feel dine room colleg cook cours high class dine servic slow best\n",
            "start review two star edit give one\n",
            "worst sushi ever eat besid costco\n",
            "excel restaur highlight great servic uniqu menu beauti set\n",
            "boyfriend sat bar complet delight experi\n",
            "weird vibe owner\n",
            "hardli meat\n",
            "better bagel groceri store\n",
            "go place gyro\n",
            "love owner chef one authent japanes cool dude\n",
            "burger good pizza use amaz doughi flavorless\n",
            "found six inch long piec wire salsa\n",
            "servic terribl food mediocr\n",
            "defin enjoy\n",
            "order albondiga soup warm tast like tomato soup frozen meatbal\n",
            "three differ occas ask well done medium well three time got bloodiest piec meat plate\n",
            "two bite refus eat anymor\n",
            "servic extrem slow\n",
            "minut wait got tabl\n",
            "serious killer hot chai latt\n",
            "allergi warn menu waitress absolut clue meal contain peanut\n",
            "boyfriend tri mediterranean chicken salad fell love\n",
            "rotat beer tap also highlight place\n",
            "price bit concern mellow mushroom\n",
            "worst thai ever\n",
            "stay vega must get breakfast least\n",
            "want first say server great perfect servic\n",
            "pizza select good\n",
            "strawberri tea good\n",
            "highli unprofession rude loyal patron\n",
            "overal great experi\n",
            "spend money elsewher\n",
            "regular toast bread equal satisfi occasion pat butter mmmm\n",
            "buffet bellagio far anticip\n",
            "drink weak peopl\n",
            "order correct\n",
            "also feel like chip bought made hous\n",
            "disappoint dinner went elsewher dessert\n",
            "chip sal amaz\n",
            "return\n",
            "new fav vega buffet spot\n",
            "serious cannot believ owner mani unexperienc employe run around like chicken head cut\n",
            "sad\n",
            "felt insult disrespect could talk judg anoth human like\n",
            "call steakhous properli cook steak understand\n",
            "impress concept food\n",
            "thing crazi guacamol like pur ed\n",
            "realli noth postino hope experi better\n",
            "got food poison buffet\n",
            "brought fresh batch fri think yay someth warm\n",
            "hilari yummi christma eve dinner rememb biggest fail entir trip us\n",
            "needless say go back anytim soon\n",
            "place disgust\n",
            "everi time eat see care teamwork profession degre\n",
            "ri style calamari joke\n",
            "howev much garlic fondu bare edibl\n",
            "could bare stomach meal complain busi lunch\n",
            "bad lost heart finish\n",
            "also took forev bring us check ask\n",
            "one make scene restaur get definit lost love one\n",
            "disappoint experi\n",
            "food par denni say good\n",
            "want wait mediocr food downright terribl servic place\n",
            "waaaaaayyyyyyyyyi rate say\n",
            "go back\n",
            "place fairli clean food simpli worth\n",
            "place lack style\n",
            "sangria half glass wine full ridicul\n",
            "bother come\n",
            "meat pretti dri slice brisket pull pork\n",
            "build seem pretti neat bathroom pretti trippi eat\n",
            "equal aw\n",
            "probabl hurri go back\n",
            "slow seat even reserv\n",
            "good stretch imagin\n",
            "cashew cream sauc bland veget undercook\n",
            "chipolt ranch dip saus tasteless seem thin water heat\n",
            "bit sweet realli spici enough lack flavor\n",
            "disappoint\n",
            "place horribl way overpr\n",
            "mayb vegetarian fare twice thought averag best\n",
            "busi know\n",
            "tabl outsid also dirti lot time worker alway friendli help menu\n",
            "ambianc feel like buffet set douchey indoor garden tea biscuit\n",
            "con spotti servic\n",
            "fri hot neither burger\n",
            "came back cold\n",
            "food came disappoint ensu\n",
            "real disappoint waiter\n",
            "husband said rude even apolog bad food anyth\n",
            "reason eat would fill night bing drink get carb stomach\n",
            "insult profound deuchebaggeri go outsid smoke break serv solidifi\n",
            "someon order two taco think may part custom servic ask combo ala cart\n",
            "quit disappoint although blame need place door\n",
            "rave review wait eat disappoint\n",
            "del taco pretti nasti avoid possibl\n",
            "hard make decent hamburg\n",
            "like\n",
            "hell go back\n",
            "gotten much better servic pizza place next door servic receiv restaur\n",
            "know big deal place back ya\n",
            "immedi said want talk manag want talk guy shot firebal behind bar\n",
            "ambianc much better\n",
            "unfortun set us disapppoint entre\n",
            "food good\n",
            "server suck wait correct server heimer suck\n",
            "happen next pretti put\n",
            "bad caus know famili own realli want like place\n",
            "overpr get\n",
            "vomit bathroom mid lunch\n",
            "kept look time soon becom minut yet still food\n",
            "place eat circumst would ever return top list\n",
            "start tuna sashimi brownish color obvious fresh\n",
            "food averag\n",
            "sure beat nacho movi would expect littl bit come restaur\n",
            "ha long bay bit flop\n",
            "problem charg sandwich bigger subway sub offer better amount veget\n",
            "shrimp unwrap live mile brushfir liter ice cold\n",
            "lack flavor seem undercook dri\n",
            "realli impress place close\n",
            "would avoid place stay mirag\n",
            "refri bean came meal dri crusti food bland\n",
            "spend money time place els\n",
            "ladi tabl next us found live green caterpillar salad\n",
            "present food aw\n",
            "tell disappoint\n",
            "think food flavor textur lack\n",
            "appetit instantli gone\n",
            "overal impress would go back\n",
            "whole experi underwhelm think go ninja sushi next time\n",
            "wast enough life pour salt wound draw time took bring check\n"
          ]
        }
      ],
      "source": [
        "# Cleaning the texts for all review using for loop\n",
        "import re\n",
        "import nltk\n",
        "nltk.download('stopwords')\n",
        "from nltk.corpus import stopwords\n",
        "from nltk.stem.porter import PorterStemmer\n",
        "corpus = []\n",
        "for i in range(0, dataset.shape[0]):\n",
        "    review = re.sub('[^a-zA-Z]', ' ', dataset.iloc[:,0][i])\n",
        "    review = review.lower()\n",
        "    review = review.split()\n",
        "    ps = PorterStemmer()\n",
        "    review = [ps.stem(word) for word in review if not word in set(stopwords.words('english'))]\n",
        "    review = ' '.join(review)\n",
        "    print(review)\n",
        "    corpus.append(review)\n"
      ]
    },
    {
      "cell_type": "code",
      "execution_count": null,
      "metadata": {
        "colab": {
          "base_uri": "https://localhost:8080/"
        },
        "id": "Uz9SsyZ1Exla",
        "outputId": "eb8659cd-cdc6-4a07-c203-9b1d5a2d1a0e"
      },
      "outputs": [
        {
          "name": "stdout",
          "output_type": "stream",
          "text": [
            "['wow love place', 'crust good', 'tasti textur nasti', 'stop late may bank holiday rick steve recommend love', 'select menu great price', 'get angri want damn pho', 'honeslti tast fresh', 'potato like rubber could tell made ahead time kept warmer', 'fri great', 'great touch', 'servic prompt', 'would go back', 'cashier care ever say still end wayyy overpr', 'tri cape cod ravoli chicken cranberri mmmm', 'disgust pretti sure human hair', 'shock sign indic cash', 'highli recommend', 'waitress littl slow servic', 'place worth time let alon vega', 'like', 'burritto blah', 'food amaz', 'servic also cute', 'could care less interior beauti', 'perform', 'right red velvet cake ohhh stuff good', 'never brought salad ask', 'hole wall great mexican street taco friendli staff', 'took hour get food tabl restaur food luke warm sever run around like total overwhelm', 'worst salmon sashimi', 'also combo like burger fri beer decent deal', 'like final blow', 'found place accid could happier', 'seem like good quick place grab bite familiar pub food favor look elsewher', 'overal like place lot', 'redeem qualiti restaur inexpens', 'ampl portion good price', 'poor servic waiter made feel like stupid everi time came tabl', 'first visit hiro delight', 'servic suck', 'shrimp tender moist', 'deal good enough would drag establish', 'hard judg whether side good gross melt styrofoam want eat fear get sick', 'posit note server attent provid great servic', 'frozen puck disgust worst peopl behind regist', 'thing like prime rib dessert section', 'bad food damn gener', 'burger good beef cook right', 'want sandwich go firehous', 'side greek salad greek dress tasti pita hummu refresh', 'order duck rare pink tender insid nice char outsid', 'came run us realiz husband left sunglass tabl', 'chow mein good', 'horribl attitud toward custom talk one custom enjoy food', 'portion huge', 'love friendli server great food wonder imagin menu', 'heart attack grill downtown vega absolut flat line excus restaur', 'much seafood like string pasta bottom', 'salad right amount sauc power scallop perfectli cook', 'rip banana rip petrifi tasteless', 'least think refil water struggl wave minut', 'place receiv star appet', 'cocktail handmad delici', 'definit go back', 'glad found place', 'great food servic huge portion give militari discount', 'alway great time do gringo', 'updat went back second time still amaz', 'got food appar never heard salt batter fish chewi', 'great way finish great', 'deal includ tast drink jeff went beyond expect', 'realli realli good rice time', 'servic meh', 'took min get milkshak noth chocol milk', 'guess known place would suck insid excalibur use common sens', 'scallop dish quit appal valu well', 'time bad custom servic', 'sweet potato fri good season well', 'today second time lunch buffet pretti good', 'much good food vega feel cheat wast eat opportun go rice compani', 'come like experienc underwhelm relationship parti wait person ask break', 'walk place smell like old greas trap other eat', 'turkey roast beef bland', 'place', 'pan cake everyon rave tast like sugari disast tailor palat six year old', 'love pho spring roll oh yummi tri', 'poor batter meat ratio made chicken tender unsatisfi', 'say food amaz', 'omelet die', 'everyth fresh delici', 'summari larg disappoint dine experi', 'like realli sexi parti mouth outrag flirt hottest person parti', 'never hard rock casino never ever step forward', 'best breakfast buffet', 'say bye bye tip ladi', 'never go', 'back', 'food arriv quickli', 'good', 'side cafe serv realli good food', 'server fantast found wife love roast garlic bone marrow ad extra meal anoth marrow go', 'good thing waiter help kept bloddi mari come', 'best buffet town price cannot beat', 'love mussel cook wine reduct duck tender potato dish delici', 'one better buffet', 'went tigerlilli fantast afternoon', 'food delici bartend attent person got great deal', 'ambienc wonder music play', 'go back next trip', 'sooooo good', 'real sushi lover let honest yama good', 'least min pass us order food arriv busi', 'realli fantast thai restaur definit worth visit', 'nice spici tender', 'good price', 'check', 'pretti gross', 'better atmospher', 'kind hard mess steak', 'although much like look sound place actual experi bit disappoint', 'know place manag serv blandest food ever eaten prepar indian cuisin', 'worst servic boot least worri', 'servic fine waitress friendli', 'guy steak steak love son steak best worst place said best steak ever eaten', 'thought ventur away get good sushi place realli hit spot night', 'host staff lack better word bitch', 'bland like place number reason want wast time bad review leav', 'phenomen food servic ambianc', 'return', 'definit worth ventur strip pork belli return next time vega', 'place way overpr mediocr food', 'penn vodka excel', 'good select food includ massiv meatloaf sandwich crispi chicken wrap delish tuna melt tasti burger', 'manag rude', 'delici nyc bagel good select cream chees real lox caper even', 'great subway fact good come everi subway meet expect', 'serious solid breakfast', 'one best bar food vega', 'extrem rude realli mani restaur would love dine weekend vega', 'drink never empti made realli great menu suggest', '', 'waiter help friendli rare check us', 'husband ate lunch disappoint food servic', 'red curri much bamboo shoot tasti', 'nice blanket moz top feel like done cover subpar food', 'bathroom clean place well decor', 'menu alway chang food qualiti go servic extrem slow', 'servic littl slow consid serv peopl server food come slow pace', 'give thumb', 'watch waiter pay lot attent tabl ignor us', 'fianc came middl day greet seat right away', 'great restaur mandalay bay', 'wait forti five minut vain', 'crostini came salad stale', 'highlight great qualiti nigiri', 'staff friendli joint alway clean', 'differ cut piec day still wonder tender well well flavor', 'order voodoo pasta first time realli excel pasta sinc go gluten free sever year ago', 'place good', 'unfortun must hit bakeri leftov day everyth order stale', 'came back today sinc reloc still impress', 'seat immedi', 'menu divers reason price', 'avoid cost', 'restaur alway full never wait', 'delici', 'place hand one best place eat phoenix metro area', 'go look good food', 'never treat bad', 'bacon hella salti', 'also order spinach avocado salad ingredi sad dress liter zero tast', 'realli vega fine dine use right menu hand ladi price list', 'waitress friendli', 'lordi khao soi dish miss curri lover', 'everyth menu terrif also thrill made amaz accommod vegetarian daughter', 'perhap caught night judg review inspir go back', 'servic leav lot desir', 'atmospher modern hip maintain touch cozi', 'weekli haunt definit place come back everi', 'liter sat minut one ask take order', 'burger absolut flavor meat total bland burger overcook charcoal flavor', 'also decid send back waitress look like verg heart attack', 'dress treat rude', 'probabl dirt', 'love place hit spot want someth healthi lack quantiti flavor', 'order lemon raspberri ice cocktail also incred', 'food suck expect suck could imagin', 'interest decor', 'realli like crepe station', 'also serv hot bread butter home made potato chip bacon bit top origin good', 'watch prepar delici food', 'egg roll fantast', 'order arriv one gyro miss', 'salad wing ice cream dessert left feel quit satisfi', 'realli sure joey vote best hot dog valley reader phoenix magazin', 'best place go tasti bowl pho', 'live music friday total blow', 'never insult felt disrespect', 'friendli staff', 'worth drive', 'heard good thing place exceed everi hope could dream', 'food great serivc', 'warm beer help', 'great brunch spot', 'servic friendli invit', 'good lunch spot', 'live sinc first last time step foot place', 'worst experi ever', 'must night place', 'side delish mix mushroom yukon gold pure white corn beateou', 'bug never show would given sure side wall bug climb kitchen', 'minut wait salad realiz come time soon', 'friend love salmon tartar', 'go back', 'extrem tasti', 'waitress good though', 'soggi good', 'jamaican mojito delici', 'small worth price', 'food rich order accordingli', 'shower area outsid rins take full shower unless mind nude everyon see', 'servic bit lack', 'lobster bisqu bussel sprout risotto filet need salt pepper cours none tabl', 'hope bode go busi someon cook come', 'either cold enough flavor bad', 'love bacon wrap date', 'unbeliev bargain', 'folk otto alway make us feel welcom special', 'main also uninspir', 'place first pho amaz', 'wonder experi made place must stop whenev town', 'food bad enough enjoy deal world worst annoy drunk peopl', 'fun chef', 'order doubl cheeseburg got singl patti fall apart pictur upload yeah still suck', 'great place coupl drink watch sport event wall cover tv', 'possibl give zero star', 'descript said yum yum sauc anoth said eel sauc yet anoth said spici mayo well none roll sauc', 'say would hardest decis honestli dish tast suppos tast amaz', 'roll eye may stay sure go back tri', 'everyon attent provid excel custom servic', 'horribl wast time money', 'dish quit flavour', 'time side restaur almost empti excus', 'busi either also build freez cold', 'like review said pay eat place', 'drink took close minut come one point', 'serious flavor delight folk', 'much better ayc sushi place went vega', 'light dark enough set mood', 'base sub par servic receiv effort show gratitud busi go back', 'owner realli great peopl', 'noth privileg work eat', 'greek dress creami flavor', 'overal think would take parent place made similar complaint silent felt', 'pizza good peanut sauc tasti', 'tabl servic pretti fast', 'fantast servic', 'well would given godfath zero star possibl', 'know make', 'tough short flavor', 'hope place stick around', 'bar vega ever recal charg tap water', 'restaur atmospher exquisit', 'good servic clean inexpens boot', 'seafood fresh gener portion', 'plu buck', 'servic par either', 'thu far visit twice food absolut delici time', 'good year ago', 'self proclaim coffe cafe wildli disappoint', 'veggitarian platter world', 'cant go wrong food', 'beat', 'stop place madison ironman friendli kind staff', 'chef friendli good job', 'better dedic boba tea spot even jenni pho', 'like patio servic outstand', 'goat taco skimp meat wow flavor', 'think', 'mac salad pretti bland get', 'went bachi burger friend recommend disappoint', 'servic stink', 'wait wait', 'place qualiti sushi qualiti restaur', 'would definit recommend wing well pizza', 'great pizza salad', 'thing went wrong burn saganaki', 'wait hour breakfast could done time better home', 'place amaz', 'hate disagre fellow yelper husband disappoint place', 'wait hour never got either pizza mani around us came later', 'know slow', 'staff great food delish incred beer select', 'live neighborhood disappoint back conveni locat', 'know pull pork could soooo delici', 'get incred fresh fish prepar care', 'go gave star rate pleas know third time eat bachi burger write review', 'love fact everyth menu worth', 'never dine place', 'food excel servic good', 'good beer drink select good food select', 'pleas stay away shrimp stir fri noodl', 'potato chip order sad could probabl count mani chip box probabl around', 'food realli bore', 'good servic check', 'greedi corpor never see anoth dime', 'never ever go back', 'much like go back get pass atroci servic never return', 'summer dine charm outdoor patio delight', 'expect good', 'fantast food', 'order toast english muffin came untoast', 'food good', 'never go back', 'great food price high qualiti hous made', 'bu boy hand rude', 'point friend basic figur place joke mind make publicli loudli known', 'back good bbq lighter fare reason price tell public back old way', 'consid two us left full happi go wrong', 'bread made hous', 'downsid servic', 'also fri without doubt worst fri ever', 'servic except food good review', 'coupl month later return amaz meal', 'favorit place town shawarrrrrrma', 'black eye pea sweet potato unreal', 'disappoint', 'could serv vinaigrett may make better overal dish still good', 'go far mani place never seen restaur serv egg breakfast especi', 'mom got home immedi got sick bite salad', 'server pleasant deal alway honor pizza hut coupon', 'truli unbeliev good glad went back', 'fantast servic pleas atmospher', 'everyth gross', 'love place', 'great servic food', 'first bathroom locat dirti seat cover replenish plain yucki', 'burger got gold standard burger kind disappoint', 'omg food delicioso', 'noth authent place', 'spaghetti noth special whatsoev', 'dish salmon best great', 'veget fresh sauc feel like authent thai', 'worth drive tucson', 'select probabl worst seen vega none', 'pretti good beer select', 'place like chipotl better', 'classi warm atmospher fun fresh appet succul steak basebal steak', 'star brick oven bread app', 'eaten multipl time time food delici', 'sat anoth ten minut final gave left', 'terribl', 'everyon treat equal special', 'take min pancak egg', 'delici', 'good side staff genuin pleasant enthusiast real treat', 'sadli gordon ramsey steak place shall sharpli avoid next trip vega', 'alway even wonder food delici', 'best fish ever life', 'bathroom next door nice', 'buffet small food offer bland', 'outstand littl restaur best food ever tast', 'pretti cool would say', 'definit turn doubt back unless someon els buy', 'server great job handl larg rowdi tabl', 'find wast food despic food', 'wife lobster bisqu soup lukewarm', 'would come back sushi crave vega', 'staff great ambianc great', 'deserv star', 'left stomach ach felt sick rest day', 'drop ball', 'dine space tini elegantli decor comfort', 'custom order way like usual eggplant green bean stir fri love', 'bean rice mediocr best', 'best taco town far', 'took back money got outta', 'interest part town place amaz', 'rude inconsider manag', 'staff friendli wait time serv horribl one even say hi first minut', 'back', 'great dinner', 'servic outshin definit recommend halibut', 'food terribl', 'never ever go back told mani peopl happen', 'recommend unless car break front starv', 'come back everi time vega', 'place deserv one star food', 'disgrac', 'def come back bowl next time', 'want healthi authent ethic food tri place', 'continu come ladi night andddd date night highli recommend place anyon area', 'sever time past experi alway great', 'walk away stuf happi first vega buffet experi', 'servic excel price pretti reason consid vega locat insid crystal shop mall aria', 'summar food incred nay transcend noth bring joy quit like memori pneumat condiment dispens', 'probabl one peopl ever go ian like', 'kid pizza alway hit lot great side dish option kiddo', 'servic perfect famili atmospher nice see', 'cook perfect servic impecc', 'one simpli disappoint', 'overal disappoint qualiti food bouchon', 'account know get screw', 'great place eat remind littl mom pop shop san francisco bay area', 'today first tast buldogi gourmet hot dog tell ever thought possibl', 'left frustrat', 'definit soon', 'food realli good got full petti fast', 'servic fantast', 'total wast time', 'know kind best ice tea', 'come hungri leav happi stuf', 'servic give star', 'assur disappoint', 'take littl bad servic food suck', 'gave tri eat crust teeth still sore', 'complet gross', 'realli enjoy eat', 'first time go think quickli becom regular', 'server nice even though look littl overwhelm need stay profession friendli end', 'dinner companion told everyth fresh nice textur tast', 'ground right next tabl larg smear step track everywher pile green bird poop', 'furthermor even find hour oper websit', 'tri like place time think done', 'mistak', 'complaint', 'serious good pizza expert connisseur topic', 'waiter jerk', 'strike want rush', 'nicest restaur owner ever come across', 'never come', 'love biscuit', 'servic quick friendli', 'order appet took minut pizza anoth minut', 'absolutley fantast', 'huge awkward lb piec cow th gristl fat', 'definit come back', 'like steiner dark feel like bar', 'wow spici delici', 'familiar check', 'take busi dinner dollar elsewher', 'love go back', 'anyway fs restaur wonder breakfast lunch', 'noth special', 'day week differ deal delici', 'mention combin pear almond bacon big winner', 'back', 'sauc tasteless', 'food delici spici enough sure ask spicier prefer way', 'ribey steak cook perfectli great mesquit flavor', 'think go back anytim soon', 'food gooodd', 'far sushi connoisseur definit tell differ good food bad food certainli bad food', 'insult', 'last time lunch bad', 'chicken wing contain driest chicken meat ever eaten', 'food good enjoy everi mouth enjoy relax venu coupl small famili group etc', 'nargil think great', 'best tater tot southwest', 'love place', 'definit worth paid', 'vanilla ice cream creami smooth profiterol choux pastri fresh enough', 'im az time new spot', 'manag worst', 'insid realli quit nice clean', 'food outstand price reason', 'think run back carli anytim soon food', 'due fact took minut acknowledg anoth minut get food kept forget thing', 'love margarita', 'first vega buffet disappoint', 'good though', 'one note ventil could use upgrad', 'great pork sandwich', 'wast time', 'total letdown would much rather go camelback flower shop cartel coffe', 'third chees friend burger cold', 'enjoy pizza brunch', 'steak well trim also perfectli cook', 'group claim would handl us beauti', 'love', 'ask bill leav without eat bring either', 'place jewel la vega exactli hope find nearli ten year live', 'seafood limit boil shrimp crab leg crab leg definit tast fresh', 'select food best', 'delici absolut back', 'small famili restaur fine dine establish', 'toro tartar cavier extraordinari like thinli slice wagyu white truffl', 'dont think back long time', 'attach ga station rare good sign', 'awesom', 'back mani time soon', 'menu much good stuff could decid', 'wors humili worker right front bunch horribl name call', 'conclus fill meal', 'daili special alway hit group', 'tragedi struck', 'pancak also realli good pretti larg', 'first crawfish experi delici', 'monster chicken fri steak egg time favorit', 'waitress sweet funni', 'also tast mom multi grain pumpkin pancak pecan butter amaz fluffi delici', 'rather eat airlin food serious', 'cant say enough good thing place', 'ambianc incred', 'waitress manag friendli', 'would recommend place', 'overal impress noca', 'gyro basic lettuc', 'terribl servic', 'thoroughli disappoint', 'much pasta love homemad hand made pasta thin pizza', 'give tri happi', 'far best cheesecurd ever', 'reason price also', 'everyth perfect night', 'food good typic bar food', 'drive get', 'first glanc love bakeri cafe nice ambianc clean friendli staff', 'anyway think go back', 'point finger item menu order disappoint', 'oh thing beauti restaur', 'gone go', 'greasi unhealthi meal', 'first time might last', 'burger amaz', 'similarli deliveri man say word apolog food minut late', 'way expens', 'sure order dessert even need pack go tiramisu cannoli die', 'first time wait next', 'bartend also nice', 'everyth good tasti', 'place two thumb way', 'best place vega breakfast check sat sun', 'love authent mexican food want whole bunch interest yet delici meat choos need tri place', 'terribl manag', 'excel new restaur experienc frenchman', 'zero star would give zero star', 'great steak great side great wine amaz dessert', 'worst martini ever', 'steak shrimp opinion best entre gc', 'opportun today sampl amaz pizza', 'wait thirti minut seat although vacant tabl folk wait', 'yellowtail carpaccio melt mouth fresh', 'tri go back even empti', 'go eat potato found stranger hair', 'spici enough perfect actual', 'last night second time dine happi decid go back', 'even hello right', 'dessert bit strang', 'boyfriend came first time recent trip vega could pleas qualiti food servic', 'realli recommend place go wrong donut place', 'nice ambianc', 'would recommend save room', 'guess mayb went night disgrac', 'howev recent experi particular locat good', 'know like restaur someth', 'avoid establish', 'think restaur suffer tri hard enough', 'tapa dish delici', 'heart place', 'salad bland vinegrett babi green heart palm', 'two felt disgust', 'good time', 'believ place great stop huge belli hanker sushi', 'gener portion great tast', 'never go back place never ever recommend place anyon', 'server went back forth sever time even much help', 'food delici', 'hour serious', 'consid theft', 'eew locat need complet overhaul', 'recent wit poor qualiti manag toward guest well', 'wait wait wait', 'also came back check us regularli excel servic', 'server super nice check us mani time', 'pizza tast old super chewi good way', 'swung give tri deepli disappoint', 'servic good compani better', 'staff also friendli effici', 'servic fan quick serv nice folk', 'boy sucker dri', 'rate', 'look authent thai food go els', 'steak recommend', 'pull car wait anoth minut acknowledg', 'great food great servic clean friendli set', 'assur back', 'hate thing much cheap qualiti black oliv', 'breakfast perpar great beauti present giant slice toast lightli dust powder sugar', 'kid play area nasti', 'great place fo take eat', 'waitress friendli happi accomod vegan veggi option', 'omg felt like never eaten thai food dish', 'extrem crumbi pretti tasteless', 'pale color instead nice char flavor', 'crouton also tast homemad extra plu', 'got home see driest damn wing ever', 'regular stop trip phoenix', 'realli enjoy crema caf expand even told friend best breakfast', 'good money', 'miss wish one philadelphia', 'got sit fairli fast end wait minut place order anoth minut food arriv', 'also best chees crisp town', 'good valu great food great servic', 'ask satisfi meal', 'food good', 'awesom', 'want leav', 'made drive way north scottsdal one bit disappoint', 'eat', 'owner realli realli need quit soooooo cheap let wrap freak sandwich two paper one', 'check place coupl year ago impress', 'chicken got definit reheat ok wedg cold soggi', 'sorri get food anytim soon', 'absolut must visit', 'cow tongu cheek taco amaz', 'friend like bloodi mari', 'despit hard rate busi actual rare give star', 'realli want make experi good one', 'return', 'chicken pho tast bland', 'disappoint', 'grill chicken tender yellow saffron season', 'drive thru mean want wait around half hour food somehow end go make us wait wait', 'pretti awesom place', 'ambienc perfect', 'best luck rude non custom servic focus new manag', 'grandmoth make roast chicken better one', 'ask multipl time wine list time ignor went hostess got one', 'staff alway super friendli help especi cool bring two small boy babi', 'four star food guy blue shirt great vibe still let us eat', 'roast beef sandwich tast realli good', 'even drastic sick', 'high qualiti chicken chicken caesar salad', 'order burger rare came done', 'promptli greet seat', 'tri go lunch madhous', 'proven dead wrong sushi bar qualiti great servic fast food impecc', 'wait hour seat greatest mood', 'good joint', 'macaron insan good', 'eat', 'waiter attent friendli inform', 'mayb cold would somewhat edibl', 'place lot promis fail deliv', 'bad experi', 'mistak', 'food averag best', 'great food', 'go back anytim soon', 'disappoint order big bay plater', 'great place relax awesom burger beer', 'perfect sit famili meal get togeth friend', 'much flavor poorli construct', 'patio seat comfort', 'fri rice dri well', 'hand favorit italian restaur', 'scream legit book somethat also pretti rare vega', 'fun experi', 'atmospher great love duo violinist play song request', 'person love hummu pita baklava falafel baba ganoush amaz eggplant', 'conveni sinc stay mgm', 'owner super friendli staff courteou', 'great', 'eclect select', 'sweet potato tot good onion ring perfect close', 'staff attent', 'chef gener time even came around twice take pictur', 'owner use work nobu place realli similar half price', 'googl mediocr imagin smashburg pop', 'dont go', 'promis disappoint', 'sushi lover avoid place mean', 'great doubl cheeseburg', 'awesom servic food', 'fantast neighborhood gem', 'wait go back', 'plantain worst ever tast', 'great place highli recommend', 'servic slow attent', 'gave star give star', 'staff spend time talk', 'dessert panna cotta amaz', 'good food great atmospher', 'damn good steak', 'total brunch fail', 'price reason flavor spot sauc home made slaw drench mayo', 'decor nice piano music soundtrack pleasant', 'steak amaz rge fillet relleno best seafood plate ever', 'good food good servic', 'absolut amaz', 'probabl back honest', 'definit back', 'sergeant pepper beef sandwich auju sauc excel sandwich well', 'hawaiian breez mango magic pineappl delight smoothi tri far good', 'went lunch servic slow', 'much say place walk expect amaz quickli disappoint', 'mortifi', 'needless say never back', 'anyway food definit fill price pay expect', 'chip came drip greas mostli edibl', 'realli impress strip steak', 'go sinc everi meal awesom', 'server nice attent serv staff', 'cashier friendli even brought food', 'work hospit industri paradis valley refrain recommend cibo longer', 'atmospher fun', 'would recommend other', 'servic quick even go order like like', 'mean realli get famou fish chip terribl', 'said mouth belli still quit pleas', 'thing', 'thumb', 'read pleas go', 'love grill pizza remind legit italian pizza', 'pro larg seat area nice bar area great simpl drink menu best brick oven pizza homemad dough', 'realli nice atmospher', 'tonight elk filet special suck', 'one bite hook', 'order old classic new dish go time sore disappoint everyth', 'cute quaint simpl honest', 'chicken delici season perfect fri outsid moist chicken insid', 'food great alway compliment chef', 'special thank dylan recommend order yummi tummi', 'awesom select beer', 'great food awesom servic', 'one nice thing ad gratuiti bill sinc parti larger expect tip', 'fli appl juic fli', 'han nan chicken also tasti', 'servic thought good', 'food bare lukewarm must sit wait server bring us', 'ryan bar definit one edinburgh establish revisit', 'nicest chines restaur', 'overal like food servic', 'also serv indian naan bread hummu spici pine nut sauc world', 'probabl never come back recommend', 'friend pasta also bad bare touch', 'tri airport experi tasti food speedi friendli servic', 'love decor chines calligraphi wall paper', 'never anyth complain', 'restaur clean famili restaur feel', 'way fri', 'sure long stood long enough begin feel awkwardli place', 'open sandwich impress good way', 'back', 'warm feel servic felt like guest special treat', 'extens menu provid lot option breakfast', 'alway order vegetarian menu dinner wide array option choos', 'watch price inflat portion get smaller manag attitud grow rapidli', 'wonder lil tapa ambienc made feel warm fuzzi insid', 'got enjoy seafood salad fabul vinegrett', 'wonton thin thick chewi almost melt mouth', 'level spici perfect spice whelm soup', 'sat right time server get go fantast', 'main thing enjoy crowd older crowd around mid', 'side town definit spot hit', 'wait minut get drink longer get arepa', 'great place eat', 'jalapeno bacon soooo good', 'servic poor that nice', 'food good servic good price good', 'place clean food oh stale', 'chicken dish ok beef like shoe leather', 'servic beyond bad', 'happi', 'tast like dirt', 'one place phoenix would defin go back', 'block amaz', 'close hous low key non fanci afford price good food', 'hot sour egg flower soup absolut star', 'sashimi poor qualiti soggi tasteless', 'great time famili dinner sunday night', 'food tasti say real tradit hunan style', 'bother slow servic', 'flair bartend absolut amaz', 'frozen margarita way sugari tast', 'good order twice', 'nutshel restaraunt smell like combin dirti fish market sewer', 'girlfriend veal bad', 'unfortun good', 'pretti satifi experi', 'join club get awesom offer via email', 'perfect someon like beer ice cold case even colder', 'bland flavorless good way describ bare tepid meat', 'chain fan beat place easili', 'nacho must', 'come back', 'mani word say place everyth pretti well', 'staff super nice quick even crazi crowd downtown juri lawyer court staff', 'great atmospher friendli fast servic', 'receiv pita huge lot meat thumb', 'food arriv meh', 'pay hot dog fri look like came kid meal wienerschnitzel idea good meal', 'classic main lobster roll fantast', 'brother law work mall ate day guess sick night', 'good go review place twice herea tribut place tribut event held last night', 'chip salsa realli good salsa fresh', 'place great', 'mediocr food', 'get insid impress place', 'super pissd', 'servic super friendli', 'sad littl veget overcook', 'place nice surpris', 'golden crispi delici', 'high hope place sinc burger cook charcoal grill unfortun tast fell flat way flat', 'could eat bruschetta day devin', 'singl employe came see ok even need water refil final serv us food', 'lastli mozzarella stick best thing order', 'first time ever came amaz experi still tell peopl awesom duck', 'server neglig need made us feel unwelcom would suggest place', 'servic terribl though', 'place overpr consist boba realli overpr', 'pack', 'love place', 'say dessert yummi', 'food terribl', 'season fruit fresh white peach pure', 'kept get wors wors offici done', 'place honestli blown', 'definit would eat', 'wast money', 'love put food nice plastic contain oppos cram littl paper takeout box', 'cr pe delic thin moist', 'aw servic', 'ever go', 'food qualiti horribl', 'price think place would much rather gone', 'servic fair best', 'love sushi found kabuki price hip servic', 'favor stay away dish', 'poor servic', 'one tabl thought food averag worth wait', 'best servic food ever maria server good friendli made day', 'excel', 'paid bill tip felt server terribl job', 'lunch great experi', 'never bland food surpris consid articl read focus much spice flavor', 'food way overpr portion fuck small', 'recent tri caballero back everi week sinc', 'buck head realli expect better food', 'food came good pace', 'ate twice last visit especi enjoy salmon salad', 'back', 'could believ dirti oyster', 'place deserv star', 'would recommend place', 'fact go round star awesom', 'disbelief dish qualifi worst version food ever tast', 'bad day low toler rude custom servic peopl job nice polit wash dish otherwis', 'potato great biscuit', 'probabl would go', 'flavor perfect amount heat', 'price reason servic great', 'wife hate meal coconut shrimp friend realli enjoy meal either', 'fella got huevo ranchero look appeal', 'went happi hour great list wine', 'may say buffet pricey think get pay place get quit lot', 'probabl come back', 'worst food servic', 'place pretti good nice littl vibe restaur', 'talk great custom servic cours back', 'hot dish hot cold dish close room temp watch staff prepar food bare hand glove everyth deep fri oil', 'love fri bean', 'alway pleasur deal', 'plethora salad sandwich everyth tri get seal approv', 'place awesom want someth light healthi summer', 'sushi strip place go', 'servic great even manag came help tabl', 'feel dine room colleg cook cours high class dine servic slow best', 'start review two star edit give one', 'worst sushi ever eat besid costco', 'excel restaur highlight great servic uniqu menu beauti set', 'boyfriend sat bar complet delight experi', 'weird vibe owner', 'hardli meat', 'better bagel groceri store', 'go place gyro', 'love owner chef one authent japanes cool dude', 'burger good pizza use amaz doughi flavorless', 'found six inch long piec wire salsa', 'servic terribl food mediocr', 'defin enjoy', 'order albondiga soup warm tast like tomato soup frozen meatbal', 'three differ occas ask well done medium well three time got bloodiest piec meat plate', 'two bite refus eat anymor', 'servic extrem slow', 'minut wait got tabl', 'serious killer hot chai latt', 'allergi warn menu waitress absolut clue meal contain peanut', 'boyfriend tri mediterranean chicken salad fell love', 'rotat beer tap also highlight place', 'price bit concern mellow mushroom', 'worst thai ever', 'stay vega must get breakfast least', 'want first say server great perfect servic', 'pizza select good', 'strawberri tea good', 'highli unprofession rude loyal patron', 'overal great experi', 'spend money elsewher', 'regular toast bread equal satisfi occasion pat butter mmmm', 'buffet bellagio far anticip', 'drink weak peopl', 'order correct', 'also feel like chip bought made hous', 'disappoint dinner went elsewher dessert', 'chip sal amaz', 'return', 'new fav vega buffet spot', 'serious cannot believ owner mani unexperienc employe run around like chicken head cut', 'sad', 'felt insult disrespect could talk judg anoth human like', 'call steakhous properli cook steak understand', 'impress concept food', 'thing crazi guacamol like pur ed', 'realli noth postino hope experi better', 'got food poison buffet', 'brought fresh batch fri think yay someth warm', 'hilari yummi christma eve dinner rememb biggest fail entir trip us', 'needless say go back anytim soon', 'place disgust', 'everi time eat see care teamwork profession degre', 'ri style calamari joke', 'howev much garlic fondu bare edibl', 'could bare stomach meal complain busi lunch', 'bad lost heart finish', 'also took forev bring us check ask', 'one make scene restaur get definit lost love one', 'disappoint experi', 'food par denni say good', 'want wait mediocr food downright terribl servic place', 'waaaaaayyyyyyyyyi rate say', 'go back', 'place fairli clean food simpli worth', 'place lack style', 'sangria half glass wine full ridicul', 'bother come', 'meat pretti dri slice brisket pull pork', 'build seem pretti neat bathroom pretti trippi eat', 'equal aw', 'probabl hurri go back', 'slow seat even reserv', 'good stretch imagin', 'cashew cream sauc bland veget undercook', 'chipolt ranch dip saus tasteless seem thin water heat', 'bit sweet realli spici enough lack flavor', 'disappoint', 'place horribl way overpr', 'mayb vegetarian fare twice thought averag best', 'busi know', 'tabl outsid also dirti lot time worker alway friendli help menu', 'ambianc feel like buffet set douchey indoor garden tea biscuit', 'con spotti servic', 'fri hot neither burger', 'came back cold', 'food came disappoint ensu', 'real disappoint waiter', 'husband said rude even apolog bad food anyth', 'reason eat would fill night bing drink get carb stomach', 'insult profound deuchebaggeri go outsid smoke break serv solidifi', 'someon order two taco think may part custom servic ask combo ala cart', 'quit disappoint although blame need place door', 'rave review wait eat disappoint', 'del taco pretti nasti avoid possibl', 'hard make decent hamburg', 'like', 'hell go back', 'gotten much better servic pizza place next door servic receiv restaur', 'know big deal place back ya', 'immedi said want talk manag want talk guy shot firebal behind bar', 'ambianc much better', 'unfortun set us disapppoint entre', 'food good', 'server suck wait correct server heimer suck', 'happen next pretti put', 'bad caus know famili own realli want like place', 'overpr get', 'vomit bathroom mid lunch', 'kept look time soon becom minut yet still food', 'place eat circumst would ever return top list', 'start tuna sashimi brownish color obvious fresh', 'food averag', 'sure beat nacho movi would expect littl bit come restaur', 'ha long bay bit flop', 'problem charg sandwich bigger subway sub offer better amount veget', 'shrimp unwrap live mile brushfir liter ice cold', 'lack flavor seem undercook dri', 'realli impress place close', 'would avoid place stay mirag', 'refri bean came meal dri crusti food bland', 'spend money time place els', 'ladi tabl next us found live green caterpillar salad', 'present food aw', 'tell disappoint', 'think food flavor textur lack', 'appetit instantli gone', 'overal impress would go back', 'whole experi underwhelm think go ninja sushi next time', 'wast enough life pour salt wound draw time took bring check']\n"
          ]
        }
      ],
      "source": [
        "print(corpus)"
      ]
    },
    {
      "cell_type": "code",
      "execution_count": null,
      "metadata": {
        "id": "0JbypqQVE5Tm"
      },
      "outputs": [],
      "source": [
        "#    Adding corpus to csv \n",
        "corpus_dataset = pd.DataFrame(corpus)\n",
        "corpus_dataset['corpus'] = corpus_dataset\n",
        "corpus_dataset = corpus_dataset.drop([0], axis = 1) \n",
        "corpus_dataset.to_csv('/content/drive/My Drive/Dataset/corpus_dataset.csv')"
      ]
    },
    {
      "cell_type": "code",
      "execution_count": null,
      "metadata": {
        "colab": {
          "base_uri": "https://localhost:8080/"
        },
        "id": "yZaZnIvZFZf5",
        "outputId": "46a814b9-812b-48e9-a229-9a93a555b394"
      },
      "outputs": [
        {
          "name": "stdout",
          "output_type": "stream",
          "text": [
            "CountVectorizer(max_features=1500)\n"
          ]
        }
      ],
      "source": [
        "# Creating the Bag of Words model\n",
        "from sklearn.feature_extraction.text import CountVectorizer\n",
        "cv = CountVectorizer(max_features = 1500)\n",
        "print(cv)\n",
        "X = cv.fit_transform(corpus).toarray()\n",
        "y = dataset.iloc[:, 1].values"
      ]
    },
    {
      "cell_type": "code",
      "execution_count": null,
      "metadata": {
        "colab": {
          "base_uri": "https://localhost:8080/"
        },
        "id": "P6Z2Q11yFgxJ",
        "outputId": "d9d46b4d-fe12-4c64-95d0-764dd95ec1a0"
      },
      "outputs": [
        {
          "name": "stdout",
          "output_type": "stream",
          "text": [
            "[[0 0 0 ... 0 0 0]\n",
            " [0 0 0 ... 0 0 0]\n",
            " [0 0 0 ... 0 0 0]\n",
            " ...\n",
            " [0 0 0 ... 0 0 0]\n",
            " [0 0 0 ... 0 0 0]\n",
            " [0 0 0 ... 0 0 0]]\n"
          ]
        }
      ],
      "source": [
        "print(X)"
      ]
    },
    {
      "cell_type": "code",
      "execution_count": null,
      "metadata": {
        "colab": {
          "base_uri": "https://localhost:8080/"
        },
        "id": "1i0VStoGFnpU",
        "outputId": "c7aaac7d-aba0-4716-d445-10b1fb6d7822"
      },
      "outputs": [
        {
          "data": {
            "text/plain": [
              "(1000, 1500)"
            ]
          },
          "execution_count": 37,
          "metadata": {},
          "output_type": "execute_result"
        }
      ],
      "source": [
        "X.shape"
      ]
    },
    {
      "cell_type": "code",
      "execution_count": null,
      "metadata": {
        "colab": {
          "base_uri": "https://localhost:8080/"
        },
        "id": "2MdFkpyBFq5h",
        "outputId": "2c5e6347-219c-4c31-e584-1732fd6f7489"
      },
      "outputs": [
        {
          "name": "stdout",
          "output_type": "stream",
          "text": [
            "[1 0 0 1 1 0 0 0 1 1 1 0 0 1 0 0 1 0 0 0 0 1 1 1 1 1 0 1 0 0 1 0 1 0 1 1 1\n",
            " 0 1 0 1 0 0 1 0 1 0 1 1 1 1 1 1 0 1 1 0 0 1 0 0 1 1 1 1 1 1 1 0 1 1 1 0 0\n",
            " 0 0 0 1 1 0 0 0 0 1 0 1 0 1 1 1 0 1 0 1 0 0 1 1 0 1 1 1 1 1 1 1 1 1 1 1 0\n",
            " 0 1 1 1 1 0 0 0 0 0 0 1 1 1 0 0 1 0 1 0 1 1 0 1 1 1 1 0 1 0 0 0 0 1 1 0 0\n",
            " 0 0 1 1 0 0 1 1 1 1 1 0 0 1 1 0 1 1 1 0 0 1 0 1 1 1 1 0 0 1 1 0 0 0 0 0 1\n",
            " 1 0 1 1 1 1 1 0 1 0 1 0 0 1 1 1 1 0 1 1 1 0 0 0 1 0 0 1 0 1 1 0 1 0 1 0 0\n",
            " 0 0 0 1 1 1 0 1 1 0 1 0 1 0 0 1 0 1 0 1 0 0 0 0 1 1 1 0 1 0 1 0 1 1 1 0 1\n",
            " 0 1 0 1 1 1 1 0 1 1 0 1 1 1 1 1 0 1 1 0 0 1 0 0 0 1 1 0 0 1 0 0 0 1 0 1 1\n",
            " 0 1 0 1 1 0 0 0 1 0 0 0 1 1 1 0 1 0 1 0 0 1 1 1 0 0 1 1 1 1 1 1 0 0 0 1 1\n",
            " 0 1 1 0 0 1 0 0 1 1 1 0 1 1 1 1 1 0 0 1 0 1 1 0 1 1 1 0 1 1 0 1 0 0 1 1 1\n",
            " 0 0 1 1 0 1 0 1 0 0 0 1 1 0 0 0 1 0 0 1 1 1 1 1 1 1 0 1 1 1 0 0 0 1 1 0 1\n",
            " 1 1 0 1 1 0 1 0 0 0 1 1 1 1 0 0 0 0 1 1 0 0 1 0 1 1 0 1 0 1 1 1 1 0 1 1 0\n",
            " 1 1 0 0 1 1 0 1 0 0 0 0 1 1 1 1 0 1 1 0 1 1 0 0 1 1 1 0 1 0 0 0 1 1 1 1 0\n",
            " 1 0 0 1 1 1 0 0 1 1 1 0 1 1 0 1 1 1 1 1 0 1 1 1 0 0 0 0 0 1 1 1 1 1 1 0 1\n",
            " 0 1 1 1 0 0 1 0 0 1 1 1 1 1 1 1 0 1 0 1 0 1 1 0 1 0 0 1 1 0 0 1 1 1 1 0 0\n",
            " 0 0 0 1 1 0 0 1 1 1 0 0 1 0 0 0 0 0 1 1 0 0 1 1 1 0 0 0 1 0 1 1 0 1 0 1 1\n",
            " 1 0 0 1 0 1 1 0 1 0 1 1 1 1 1 0 1 0 0 0 0 0 1 1 0 0 1 0 0 0 1 0 1 1 0 0 0\n",
            " 1 1 1 0 1 0 1 0 1 0 1 1 0 1 0 0 0 0 0 1 0 0 1 1 0 1 0 1 1 1 1 1 1 1 1 1 1\n",
            " 1 1 1 0 0 1 0 1 1 1 1 0 1 0 1 0 1 1 1 0 1 1 1 1 1 0 1 1 1 0 0 0 0 0 0 0 1\n",
            " 1 1 0 1 0 1 0 1 0 1 0 1 1 1 0 1 0 1 1 1 1 1 1 1 0 1 1 0 0 1 1 1 0 0 1 1 1\n",
            " 1 0 0 0 0 1 1 1 0 1 1 1 1 1 0 1 0 1 1 0 1 0 0 0 1 0 1 1 1 1 0 1 0 0 1 0 1\n",
            " 0 0 0 1 1 1 0 0 1 0 1 1 1 1 0 0 1 0 1 1 1 0 1 0 1 0 1 1 0 1 0 1 1 0 0 0 0\n",
            " 1 1 0 1 0 0 0 0 1 1 0 0 0 0 0 0 0 0 0 1 1 0 1 0 0 1 0 1 1 0 0 0 0 1 0 0 1\n",
            " 0 1 1 0 0 1 1 0 0 1 1 0 1 1 1 1 1 1 0 0 0 1 1 0 0 0 1 1 0 0 0 1 0 0 0 0 0\n",
            " 1 0 1 1 0 0 1 1 1 1 0 1 0 1 0 0 0 0 0 1 0 1 0 0 0 0 0 0 0 0 0 0 0 0 1 0 0\n",
            " 0 0 0 0 0 0 0 0 0 0 0 0 0 0 0 0 0 0 0 0 0 0 0 0 0 0 0 0 0 0 0 0 0 0 0 0 0\n",
            " 0 0 0 0 0 0 0 0 0 0 0 0 0 0 0 0 0 0 0 0 0 0 0 0 0 0 0 0 0 0 0 0 0 0 0 0 0\n",
            " 0]\n"
          ]
        }
      ],
      "source": [
        "print(y)"
      ]
    },
    {
      "cell_type": "code",
      "execution_count": null,
      "metadata": {
        "colab": {
          "base_uri": "https://localhost:8080/"
        },
        "id": "fqlOUQ9-FvZn",
        "outputId": "f44835fa-cf91-4e90-9088-2f1cea6a8a56"
      },
      "outputs": [
        {
          "data": {
            "text/plain": [
              "(1000,)"
            ]
          },
          "execution_count": 39,
          "metadata": {},
          "output_type": "execute_result"
        }
      ],
      "source": [
        "y.shape"
      ]
    },
    {
      "cell_type": "code",
      "execution_count": null,
      "metadata": {
        "id": "ELL5RZoJFw8P"
      },
      "outputs": [],
      "source": [
        "# Splitting the dataset into the Training set and Test set\n",
        "from sklearn.model_selection import train_test_split\n",
        "X_train, X_test, y_train, y_test = train_test_split(X, y, test_size = 0.20, random_state = 0)"
      ]
    },
    {
      "cell_type": "code",
      "execution_count": null,
      "metadata": {
        "colab": {
          "base_uri": "https://localhost:8080/"
        },
        "id": "jMNzm0-ZF4Ys",
        "outputId": "97f0b6fc-1e2d-4da0-db1b-afe44ddbbe43"
      },
      "outputs": [
        {
          "data": {
            "text/plain": [
              "GaussianNB()"
            ]
          },
          "execution_count": 41,
          "metadata": {},
          "output_type": "execute_result"
        }
      ],
      "source": [
        "# Fitting Naive Bayes to the Training set\n",
        "from sklearn.naive_bayes import GaussianNB\n",
        "classifier = GaussianNB()\n",
        "classifier.fit(X_train, y_train)"
      ]
    },
    {
      "cell_type": "code",
      "execution_count": null,
      "metadata": {
        "id": "XDSfqUfAF_RD"
      },
      "outputs": [],
      "source": [
        "y_pred = classifier.predict(X_test)"
      ]
    },
    {
      "cell_type": "code",
      "execution_count": null,
      "metadata": {
        "colab": {
          "base_uri": "https://localhost:8080/"
        },
        "id": "h9Sws-MiGD4c",
        "outputId": "12574848-ac83-43b2-b421-b680c736f778"
      },
      "outputs": [
        {
          "name": "stdout",
          "output_type": "stream",
          "text": [
            "Confusion matrix: \n",
            "[[55 42]\n",
            " [12 91]]\n"
          ]
        }
      ],
      "source": [
        "# Making the Confusion Matrix\n",
        "from sklearn.metrics import confusion_matrix\n",
        "cm = confusion_matrix(y_test, y_pred)\n",
        "print('Confusion matrix: ')\n",
        "print(cm)"
      ]
    },
    {
      "cell_type": "code",
      "execution_count": null,
      "metadata": {
        "colab": {
          "base_uri": "https://localhost:8080/"
        },
        "id": "_LCdbjVbGIpO",
        "outputId": "39d90242-8653-422f-d8e6-ec01c275a114"
      },
      "outputs": [
        {
          "name": "stdout",
          "output_type": "stream",
          "text": [
            "Accuracy: 73.00\n"
          ]
        }
      ],
      "source": [
        "# calculate Accuracy\n",
        "from sklearn.metrics import accuracy_score\n",
        "print('Accuracy: %.2f' % (accuracy_score(y_test, y_pred)*100))"
      ]
    },
    {
      "cell_type": "code",
      "execution_count": null,
      "metadata": {
        "colab": {
          "base_uri": "https://localhost:8080/"
        },
        "id": "4k8VjsBIGLx8",
        "outputId": "a12ac99e-f639-4425-cf56-2d38cf9143ec"
      },
      "outputs": [
        {
          "name": "stdout",
          "output_type": "stream",
          "text": [
            "Precision: 68.421\n"
          ]
        }
      ],
      "source": [
        "from sklearn.metrics import precision_score\n",
        "from sklearn.metrics import recall_score\n",
        "from sklearn.metrics import f1_score\n",
        "# calculate precision\n",
        "# Precision = TruePositives / (TruePositives + FalsePositives)\n",
        "precision = precision_score(y_test, y_pred, average='binary')\n",
        "print('Precision: %.3f' % (precision*100))"
      ]
    },
    {
      "cell_type": "code",
      "execution_count": null,
      "metadata": {
        "colab": {
          "base_uri": "https://localhost:8080/"
        },
        "id": "-symRADzGP_B",
        "outputId": "6c3cc611-eca6-46a9-e75a-d9e0913e2f73"
      },
      "outputs": [
        {
          "name": "stdout",
          "output_type": "stream",
          "text": [
            "F-Measure: 77.119\n"
          ]
        }
      ],
      "source": [
        "from sklearn.metrics import f1_score\n",
        "# F-Measure = (2 * Precision * Recall) / (Precision + Recall)\n",
        "# calculate score\n",
        "score = f1_score(y_test, y_pred, average='binary')\n",
        "print('F-Measure: %.3f' % (score*100))"
      ]
    },
    {
      "cell_type": "code",
      "execution_count": null,
      "metadata": {
        "colab": {
          "base_uri": "https://localhost:8080/"
        },
        "id": "SjoL-Au6GSYX",
        "outputId": "d77edec1-f0e3-44f6-b7f4-f33fbad9d651"
      },
      "outputs": [
        {
          "name": "stdout",
          "output_type": "stream",
          "text": [
            "Recall: 88.350\n"
          ]
        }
      ],
      "source": [
        "# calculate recall\n",
        "# Recall = TruePositives / (TruePositives + FalseNegatives)\n",
        "recall = recall_score(y_test, y_pred, average='binary')\n",
        "print('Recall: %.3f' % (recall*100))"
      ]
    },
    {
      "cell_type": "code",
      "execution_count": null,
      "metadata": {
        "colab": {
          "base_uri": "https://localhost:8080/"
        },
        "id": "sq-rW7X_GXAK",
        "outputId": "4ec197df-db18-4897-bde8-6c1eccc7cb2f"
      },
      "outputs": [
        {
          "name": "stdout",
          "output_type": "stream",
          "text": [
            "[[0 0 0 ... 0 0 0]]\n",
            "Review is Negative\n"
          ]
        }
      ],
      "source": [
        "Review = \"not very bad\" #@param {type:\"string\"}\n",
        "input_data = [Review] \n",
        "  \n",
        "input_data = cv.transform(input_data).toarray()\n",
        "print(input_data)\n",
        "\n",
        "input_pred = classifier.predict(input_data)\n",
        "\n",
        "input_pred = input_pred.astype(int)\n",
        "\n",
        "\n",
        "if input_pred[0]==1:\n",
        "    print(\"Review is Positive\")\n",
        "else:\n",
        "    print(\"Review is Negative\")"
      ]
    },
    {
      "cell_type": "code",
      "execution_count": null,
      "metadata": {
        "colab": {
          "base_uri": "https://localhost:8080/"
        },
        "id": "w8wmoF45GhU6",
        "outputId": "71249e37-e60b-4ca6-9a0a-aceb8e1d35ef"
      },
      "outputs": [
        {
          "name": "stdout",
          "output_type": "stream",
          "text": [
            "[INFO] Saving model...\n"
          ]
        }
      ],
      "source": [
        "import pickle \n",
        "print(\"[INFO] Saving model...\")\n",
        "# Save the trained model as a pickle string. \n",
        "saved_model=pickle.dump(classifier,open('/content/drive/My Drive/Model/restuarantreviewnlp.pkl', 'wb')) \n",
        "# Saving model to disk"
      ]
    },
    {
      "cell_type": "code",
      "execution_count": null,
      "metadata": {
        "id": "g6rh4ReKG3lz"
      },
      "outputs": [],
      "source": [
        "# Load the pickled model \n",
        "model = pickle.load(open('/content/drive/My Drive/Model/restuarantreviewnlp.pkl','rb'))  \n",
        "# Use the loaded pickled model to make predictions"
      ]
    },
    {
      "cell_type": "code",
      "execution_count": null,
      "metadata": {
        "colab": {
          "background_save": true
        },
        "id": "HodngYk4HDyZ",
        "outputId": "7aadf2f3-cb21-4224-e82b-1a99335bfe83"
      },
      "outputs": [
        {
          "name": "stdout",
          "output_type": "stream",
          "text": [
            "Looking in indexes: https://pypi.org/simple, https://us-python.pkg.dev/colab-wheels/public/simple/\n",
            "Collecting streamlit==1.1.0\n",
            "  Downloading streamlit-1.1.0-py2.py3-none-any.whl (8.3 MB)\n",
            "\u001b[K     |████████████████████████████████| 8.3 MB 5.2 MB/s \n",
            "\u001b[?25hCollecting blinker\n",
            "  Downloading blinker-1.5-py2.py3-none-any.whl (12 kB)\n",
            "Collecting toml\n",
            "  Downloading toml-0.10.2-py2.py3-none-any.whl (16 kB)\n",
            "Requirement already satisfied: python-dateutil in /usr/local/lib/python3.7/dist-packages (from streamlit==1.1.0) (2.8.2)\n",
            "Requirement already satisfied: cachetools>=4.0 in /usr/local/lib/python3.7/dist-packages (from streamlit==1.1.0) (4.2.4)\n",
            "Requirement already satisfied: astor in /usr/local/lib/python3.7/dist-packages (from streamlit==1.1.0) (0.8.1)\n",
            "Requirement already satisfied: packaging in /usr/local/lib/python3.7/dist-packages (from streamlit==1.1.0) (21.3)\n",
            "Requirement already satisfied: click<8.0,>=7.0 in /usr/local/lib/python3.7/dist-packages (from streamlit==1.1.0) (7.1.2)\n",
            "Requirement already satisfied: altair>=3.2.0 in /usr/local/lib/python3.7/dist-packages (from streamlit==1.1.0) (4.2.0)\n",
            "Requirement already satisfied: tzlocal in /usr/local/lib/python3.7/dist-packages (from streamlit==1.1.0) (1.5.1)\n",
            "Requirement already satisfied: protobuf!=3.11,>=3.6.0 in /usr/local/lib/python3.7/dist-packages (from streamlit==1.1.0) (3.17.3)\n",
            "Requirement already satisfied: attrs in /usr/local/lib/python3.7/dist-packages (from streamlit==1.1.0) (22.1.0)\n",
            "Requirement already satisfied: numpy in /usr/local/lib/python3.7/dist-packages (from streamlit==1.1.0) (1.21.6)\n",
            "Collecting watchdog\n",
            "  Downloading watchdog-2.1.9-py3-none-manylinux2014_x86_64.whl (78 kB)\n",
            "\u001b[K     |████████████████████████████████| 78 kB 8.0 MB/s \n",
            "\u001b[?25hCollecting base58\n",
            "  Downloading base58-2.1.1-py3-none-any.whl (5.6 kB)\n",
            "Requirement already satisfied: pillow>=6.2.0 in /usr/local/lib/python3.7/dist-packages (from streamlit==1.1.0) (7.1.2)\n",
            "Requirement already satisfied: tornado>=5.0 in /usr/local/lib/python3.7/dist-packages (from streamlit==1.1.0) (5.1.1)\n",
            "Collecting validators\n",
            "  Downloading validators-0.20.0.tar.gz (30 kB)\n",
            "Requirement already satisfied: pyarrow in /usr/local/lib/python3.7/dist-packages (from streamlit==1.1.0) (6.0.1)\n",
            "Collecting gitpython!=3.1.19\n",
            "  Downloading GitPython-3.1.27-py3-none-any.whl (181 kB)\n",
            "\u001b[K     |████████████████████████████████| 181 kB 51.2 MB/s \n",
            "\u001b[?25hRequirement already satisfied: pandas>=0.21.0 in /usr/local/lib/python3.7/dist-packages (from streamlit==1.1.0) (1.3.5)\n",
            "Requirement already satisfied: requests in /usr/local/lib/python3.7/dist-packages (from streamlit==1.1.0) (2.23.0)\n",
            "Collecting pydeck>=0.1.dev5\n",
            "  Downloading pydeck-0.7.1-py2.py3-none-any.whl (4.3 MB)\n",
            "\u001b[K     |████████████████████████████████| 4.3 MB 42.4 MB/s \n",
            "\u001b[?25hRequirement already satisfied: toolz in /usr/local/lib/python3.7/dist-packages (from altair>=3.2.0->streamlit==1.1.0) (0.12.0)\n",
            "Requirement already satisfied: jsonschema>=3.0 in /usr/local/lib/python3.7/dist-packages (from altair>=3.2.0->streamlit==1.1.0) (4.3.3)\n",
            "Requirement already satisfied: entrypoints in /usr/local/lib/python3.7/dist-packages (from altair>=3.2.0->streamlit==1.1.0) (0.4)\n",
            "Requirement already satisfied: jinja2 in /usr/local/lib/python3.7/dist-packages (from altair>=3.2.0->streamlit==1.1.0) (2.11.3)\n",
            "Collecting gitdb<5,>=4.0.1\n",
            "  Downloading gitdb-4.0.9-py3-none-any.whl (63 kB)\n",
            "\u001b[K     |████████████████████████████████| 63 kB 1.7 MB/s \n",
            "\u001b[?25hRequirement already satisfied: typing-extensions>=3.7.4.3 in /usr/local/lib/python3.7/dist-packages (from gitpython!=3.1.19->streamlit==1.1.0) (4.1.1)\n",
            "Collecting smmap<6,>=3.0.1\n",
            "  Downloading smmap-5.0.0-py3-none-any.whl (24 kB)\n",
            "Requirement already satisfied: pyrsistent!=0.17.0,!=0.17.1,!=0.17.2,>=0.14.0 in /usr/local/lib/python3.7/dist-packages (from jsonschema>=3.0->altair>=3.2.0->streamlit==1.1.0) (0.18.1)\n",
            "Requirement already satisfied: importlib-resources>=1.4.0 in /usr/local/lib/python3.7/dist-packages (from jsonschema>=3.0->altair>=3.2.0->streamlit==1.1.0) (5.9.0)\n",
            "Requirement already satisfied: importlib-metadata in /usr/local/lib/python3.7/dist-packages (from jsonschema>=3.0->altair>=3.2.0->streamlit==1.1.0) (4.12.0)\n",
            "Requirement already satisfied: zipp>=3.1.0 in /usr/local/lib/python3.7/dist-packages (from importlib-resources>=1.4.0->jsonschema>=3.0->altair>=3.2.0->streamlit==1.1.0) (3.8.1)\n",
            "Requirement already satisfied: pytz>=2017.3 in /usr/local/lib/python3.7/dist-packages (from pandas>=0.21.0->streamlit==1.1.0) (2022.1)\n",
            "Requirement already satisfied: six>=1.9 in /usr/local/lib/python3.7/dist-packages (from protobuf!=3.11,>=3.6.0->streamlit==1.1.0) (1.15.0)\n",
            "Requirement already satisfied: ipywidgets>=7.0.0 in /usr/local/lib/python3.7/dist-packages (from pydeck>=0.1.dev5->streamlit==1.1.0) (7.7.1)\n",
            "Collecting ipykernel>=5.1.2\n",
            "  Downloading ipykernel-6.15.1-py3-none-any.whl (132 kB)\n",
            "\u001b[K     |████████████████████████████████| 132 kB 60.6 MB/s \n",
            "\u001b[?25hRequirement already satisfied: traitlets>=4.3.2 in /usr/local/lib/python3.7/dist-packages (from pydeck>=0.1.dev5->streamlit==1.1.0) (5.1.1)\n",
            "Requirement already satisfied: matplotlib-inline>=0.1 in /usr/local/lib/python3.7/dist-packages (from ipykernel>=5.1.2->pydeck>=0.1.dev5->streamlit==1.1.0) (0.1.3)\n",
            "Collecting ipython>=7.23.1\n",
            "  Downloading ipython-7.34.0-py3-none-any.whl (793 kB)\n",
            "\u001b[K     |████████████████████████████████| 793 kB 35.6 MB/s \n",
            "\u001b[?25hRequirement already satisfied: debugpy>=1.0 in /usr/local/lib/python3.7/dist-packages (from ipykernel>=5.1.2->pydeck>=0.1.dev5->streamlit==1.1.0) (1.0.0)\n",
            "Collecting tornado>=5.0\n",
            "  Downloading tornado-6.2-cp37-abi3-manylinux_2_5_x86_64.manylinux1_x86_64.manylinux_2_17_x86_64.manylinux2014_x86_64.whl (423 kB)\n",
            "\u001b[K     |████████████████████████████████| 423 kB 38.0 MB/s \n",
            "\u001b[?25hRequirement already satisfied: psutil in /usr/local/lib/python3.7/dist-packages (from ipykernel>=5.1.2->pydeck>=0.1.dev5->streamlit==1.1.0) (5.4.8)\n",
            "Requirement already satisfied: pyzmq>=17 in /usr/local/lib/python3.7/dist-packages (from ipykernel>=5.1.2->pydeck>=0.1.dev5->streamlit==1.1.0) (23.2.0)\n",
            "Collecting jupyter-client>=6.1.12\n",
            "  Downloading jupyter_client-7.3.4-py3-none-any.whl (132 kB)\n",
            "\u001b[K     |████████████████████████████████| 132 kB 65.6 MB/s \n",
            "\u001b[?25hRequirement already satisfied: nest-asyncio in /usr/local/lib/python3.7/dist-packages (from ipykernel>=5.1.2->pydeck>=0.1.dev5->streamlit==1.1.0) (1.5.5)\n",
            "Requirement already satisfied: pexpect>4.3 in /usr/local/lib/python3.7/dist-packages (from ipython>=7.23.1->ipykernel>=5.1.2->pydeck>=0.1.dev5->streamlit==1.1.0) (4.8.0)\n",
            "Requirement already satisfied: pygments in /usr/local/lib/python3.7/dist-packages (from ipython>=7.23.1->ipykernel>=5.1.2->pydeck>=0.1.dev5->streamlit==1.1.0) (2.6.1)\n",
            "Requirement already satisfied: pickleshare in /usr/local/lib/python3.7/dist-packages (from ipython>=7.23.1->ipykernel>=5.1.2->pydeck>=0.1.dev5->streamlit==1.1.0) (0.7.5)\n",
            "Requirement already satisfied: backcall in /usr/local/lib/python3.7/dist-packages (from ipython>=7.23.1->ipykernel>=5.1.2->pydeck>=0.1.dev5->streamlit==1.1.0) (0.2.0)\n",
            "Requirement already satisfied: jedi>=0.16 in /usr/local/lib/python3.7/dist-packages (from ipython>=7.23.1->ipykernel>=5.1.2->pydeck>=0.1.dev5->streamlit==1.1.0) (0.18.1)\n",
            "Requirement already satisfied: setuptools>=18.5 in /usr/local/lib/python3.7/dist-packages (from ipython>=7.23.1->ipykernel>=5.1.2->pydeck>=0.1.dev5->streamlit==1.1.0) (57.4.0)\n",
            "Requirement already satisfied: decorator in /usr/local/lib/python3.7/dist-packages (from ipython>=7.23.1->ipykernel>=5.1.2->pydeck>=0.1.dev5->streamlit==1.1.0) (4.4.2)\n",
            "Collecting prompt-toolkit!=3.0.0,!=3.0.1,<3.1.0,>=2.0.0\n",
            "  Downloading prompt_toolkit-3.0.30-py3-none-any.whl (381 kB)\n",
            "\u001b[K     |████████████████████████████████| 381 kB 69.9 MB/s \n",
            "\u001b[?25hRequirement already satisfied: widgetsnbextension~=3.6.0 in /usr/local/lib/python3.7/dist-packages (from ipywidgets>=7.0.0->pydeck>=0.1.dev5->streamlit==1.1.0) (3.6.1)\n",
            "Requirement already satisfied: jupyterlab-widgets>=1.0.0 in /usr/local/lib/python3.7/dist-packages (from ipywidgets>=7.0.0->pydeck>=0.1.dev5->streamlit==1.1.0) (1.1.1)\n",
            "Requirement already satisfied: ipython-genutils~=0.2.0 in /usr/local/lib/python3.7/dist-packages (from ipywidgets>=7.0.0->pydeck>=0.1.dev5->streamlit==1.1.0) (0.2.0)\n",
            "Requirement already satisfied: parso<0.9.0,>=0.8.0 in /usr/local/lib/python3.7/dist-packages (from jedi>=0.16->ipython>=7.23.1->ipykernel>=5.1.2->pydeck>=0.1.dev5->streamlit==1.1.0) (0.8.3)\n",
            "Requirement already satisfied: MarkupSafe>=0.23 in /usr/local/lib/python3.7/dist-packages (from jinja2->altair>=3.2.0->streamlit==1.1.0) (2.0.1)\n",
            "Requirement already satisfied: jupyter-core>=4.9.2 in /usr/local/lib/python3.7/dist-packages (from jupyter-client>=6.1.12->ipykernel>=5.1.2->pydeck>=0.1.dev5->streamlit==1.1.0) (4.11.1)\n",
            "Requirement already satisfied: ptyprocess>=0.5 in /usr/local/lib/python3.7/dist-packages (from pexpect>4.3->ipython>=7.23.1->ipykernel>=5.1.2->pydeck>=0.1.dev5->streamlit==1.1.0) (0.7.0)\n",
            "Requirement already satisfied: wcwidth in /usr/local/lib/python3.7/dist-packages (from prompt-toolkit!=3.0.0,!=3.0.1,<3.1.0,>=2.0.0->ipython>=7.23.1->ipykernel>=5.1.2->pydeck>=0.1.dev5->streamlit==1.1.0) (0.2.5)\n",
            "Requirement already satisfied: notebook>=4.4.1 in /usr/local/lib/python3.7/dist-packages (from widgetsnbextension~=3.6.0->ipywidgets>=7.0.0->pydeck>=0.1.dev5->streamlit==1.1.0) (5.3.1)\n",
            "Requirement already satisfied: nbformat in /usr/local/lib/python3.7/dist-packages (from notebook>=4.4.1->widgetsnbextension~=3.6.0->ipywidgets>=7.0.0->pydeck>=0.1.dev5->streamlit==1.1.0) (5.4.0)\n",
            "Requirement already satisfied: terminado>=0.8.1 in /usr/local/lib/python3.7/dist-packages (from notebook>=4.4.1->widgetsnbextension~=3.6.0->ipywidgets>=7.0.0->pydeck>=0.1.dev5->streamlit==1.1.0) (0.13.3)\n",
            "Requirement already satisfied: Send2Trash in /usr/local/lib/python3.7/dist-packages (from notebook>=4.4.1->widgetsnbextension~=3.6.0->ipywidgets>=7.0.0->pydeck>=0.1.dev5->streamlit==1.1.0) (1.8.0)\n",
            "Requirement already satisfied: nbconvert in /usr/local/lib/python3.7/dist-packages (from notebook>=4.4.1->widgetsnbextension~=3.6.0->ipywidgets>=7.0.0->pydeck>=0.1.dev5->streamlit==1.1.0) (5.6.1)\n",
            "Requirement already satisfied: testpath in /usr/local/lib/python3.7/dist-packages (from nbconvert->notebook>=4.4.1->widgetsnbextension~=3.6.0->ipywidgets>=7.0.0->pydeck>=0.1.dev5->streamlit==1.1.0) (0.6.0)\n",
            "Requirement already satisfied: mistune<2,>=0.8.1 in /usr/local/lib/python3.7/dist-packages (from nbconvert->notebook>=4.4.1->widgetsnbextension~=3.6.0->ipywidgets>=7.0.0->pydeck>=0.1.dev5->streamlit==1.1.0) (0.8.4)\n",
            "Requirement already satisfied: defusedxml in /usr/local/lib/python3.7/dist-packages (from nbconvert->notebook>=4.4.1->widgetsnbextension~=3.6.0->ipywidgets>=7.0.0->pydeck>=0.1.dev5->streamlit==1.1.0) (0.7.1)\n",
            "Requirement already satisfied: pandocfilters>=1.4.1 in /usr/local/lib/python3.7/dist-packages (from nbconvert->notebook>=4.4.1->widgetsnbextension~=3.6.0->ipywidgets>=7.0.0->pydeck>=0.1.dev5->streamlit==1.1.0) (1.5.0)\n",
            "Requirement already satisfied: bleach in /usr/local/lib/python3.7/dist-packages (from nbconvert->notebook>=4.4.1->widgetsnbextension~=3.6.0->ipywidgets>=7.0.0->pydeck>=0.1.dev5->streamlit==1.1.0) (5.0.1)\n",
            "Requirement already satisfied: fastjsonschema in /usr/local/lib/python3.7/dist-packages (from nbformat->notebook>=4.4.1->widgetsnbextension~=3.6.0->ipywidgets>=7.0.0->pydeck>=0.1.dev5->streamlit==1.1.0) (2.16.1)\n",
            "Requirement already satisfied: webencodings in /usr/local/lib/python3.7/dist-packages (from bleach->nbconvert->notebook>=4.4.1->widgetsnbextension~=3.6.0->ipywidgets>=7.0.0->pydeck>=0.1.dev5->streamlit==1.1.0) (0.5.1)\n",
            "Requirement already satisfied: pyparsing!=3.0.5,>=2.0.2 in /usr/local/lib/python3.7/dist-packages (from packaging->streamlit==1.1.0) (3.0.9)\n",
            "Requirement already satisfied: chardet<4,>=3.0.2 in /usr/local/lib/python3.7/dist-packages (from requests->streamlit==1.1.0) (3.0.4)\n",
            "Requirement already satisfied: certifi>=2017.4.17 in /usr/local/lib/python3.7/dist-packages (from requests->streamlit==1.1.0) (2022.6.15)\n",
            "Requirement already satisfied: urllib3!=1.25.0,!=1.25.1,<1.26,>=1.21.1 in /usr/local/lib/python3.7/dist-packages (from requests->streamlit==1.1.0) (1.24.3)\n",
            "Requirement already satisfied: idna<3,>=2.5 in /usr/local/lib/python3.7/dist-packages (from requests->streamlit==1.1.0) (2.10)\n",
            "Building wheels for collected packages: validators\n",
            "  Building wheel for validators (setup.py) ... \u001b[?25l\u001b[?25hdone\n",
            "  Created wheel for validators: filename=validators-0.20.0-py3-none-any.whl size=19582 sha256=41272a0824c8d5dfaa1257ef780a4dba8ab21dd913396c6a352b3d9f4ba9c1d1\n",
            "  Stored in directory: /root/.cache/pip/wheels/5f/55/ab/36a76989f7f88d9ca7b1f68da6d94252bb6a8d6ad4f18e04e9\n",
            "Successfully built validators\n",
            "Installing collected packages: tornado, prompt-toolkit, jupyter-client, ipython, ipykernel, smmap, gitdb, watchdog, validators, toml, pydeck, gitpython, blinker, base58, streamlit\n",
            "  Attempting uninstall: tornado\n",
            "    Found existing installation: tornado 5.1.1\n",
            "    Uninstalling tornado-5.1.1:\n",
            "      Successfully uninstalled tornado-5.1.1\n",
            "  Attempting uninstall: prompt-toolkit\n",
            "    Found existing installation: prompt-toolkit 1.0.18\n",
            "    Uninstalling prompt-toolkit-1.0.18:\n",
            "      Successfully uninstalled prompt-toolkit-1.0.18\n",
            "  Attempting uninstall: jupyter-client\n",
            "    Found existing installation: jupyter-client 5.3.5\n",
            "    Uninstalling jupyter-client-5.3.5:\n",
            "      Successfully uninstalled jupyter-client-5.3.5\n",
            "  Attempting uninstall: ipython\n",
            "    Found existing installation: ipython 5.5.0\n",
            "    Uninstalling ipython-5.5.0:\n",
            "      Successfully uninstalled ipython-5.5.0\n",
            "  Attempting uninstall: ipykernel\n",
            "    Found existing installation: ipykernel 4.10.1\n",
            "    Uninstalling ipykernel-4.10.1:\n",
            "      Successfully uninstalled ipykernel-4.10.1\n",
            "\u001b[31mERROR: pip's dependency resolver does not currently take into account all the packages that are installed. This behaviour is the source of the following dependency conflicts.\n",
            "nbclient 0.6.6 requires traitlets>=5.2.2, but you have traitlets 5.1.1 which is incompatible.\n",
            "jupyter-console 5.2.0 requires prompt-toolkit<2.0.0,>=1.0.0, but you have prompt-toolkit 3.0.30 which is incompatible.\n",
            "google-colab 1.0.0 requires ipykernel~=4.10, but you have ipykernel 6.15.1 which is incompatible.\n",
            "google-colab 1.0.0 requires ipython~=5.5.0, but you have ipython 7.34.0 which is incompatible.\n",
            "google-colab 1.0.0 requires tornado~=5.1.0, but you have tornado 6.2 which is incompatible.\u001b[0m\n",
            "Successfully installed base58-2.1.1 blinker-1.5 gitdb-4.0.9 gitpython-3.1.27 ipykernel-6.15.1 ipython-7.34.0 jupyter-client-7.3.4 prompt-toolkit-3.0.30 pydeck-0.7.1 smmap-5.0.0 streamlit-1.1.0 toml-0.10.2 tornado-6.2 validators-0.20.0 watchdog-2.1.9\n"
          ]
        },
        {
          "data": {
            "application/vnd.colab-display-data+json": {
              "pip_warning": {
                "packages": [
                  "IPython",
                  "prompt_toolkit",
                  "tornado"
                ]
              }
            }
          },
          "metadata": {},
          "output_type": "display_data"
        }
      ],
      "source": []
    }
  ],
  "metadata": {
    "colab": {
      "provenance": []
    },
    "kernelspec": {
      "display_name": "Python 3",
      "name": "python3"
    },
    "language_info": {
      "name": "python"
    }
  },
  "nbformat": 4,
  "nbformat_minor": 0
}